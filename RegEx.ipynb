{
 "cells": [
  {
   "cell_type": "code",
   "execution_count": 5,
   "metadata": {},
   "outputs": [
    {
     "name": "stdout",
     "output_type": "stream",
     "text": [
      "None\n"
     ]
    }
   ],
   "source": [
    "import re\n",
    "\n",
    "print(re.match(\"GR.?S\", \"GRAAAS\"))"
   ]
  },
  {
   "cell_type": "code",
   "execution_count": 10,
   "metadata": {},
   "outputs": [
    {
     "name": "stdout",
     "output_type": "stream",
     "text": [
      "['111', '222']\n"
     ]
    }
   ],
   "source": [
    "print(re.findall(\"([0-9]+)\",\"Bonjour 111 Aurevoir 222\"))"
   ]
  },
  {
   "cell_type": "code",
   "execution_count": 12,
   "metadata": {},
   "outputs": [
    {
     "name": "stdout",
     "output_type": "stream",
     "text": [
      "Bonjour XXX Aurevoir XXX\n"
     ]
    }
   ],
   "source": [
    "print(re.sub(\"([0-9]+)\",\"XXX\", \"Bonjour 111 Aurevoir 222\"))"
   ]
  },
  {
   "cell_type": "code",
   "execution_count": 17,
   "metadata": {},
   "outputs": [
    {
     "name": "stdout",
     "output_type": "stream",
     "text": [
      "<re.Match object; span=(0, 4), match='GRAS'>\n"
     ]
    }
   ],
   "source": [
    "print(re.match(\"GR[A-Z]?S\", \"GRAS\"))"
   ]
  },
  {
   "cell_type": "code",
   "execution_count": 39,
   "metadata": {},
   "outputs": [
    {
     "name": "stdout",
     "output_type": "stream",
     "text": [
      "<re.Match object; span=(0, 10), match='0634561489'>\n",
      "<re.Match object; span=(0, 14), match='06.34.56.14.89'>\n",
      "<re.Match object; span=(0, 14), match='06 34 56 14 89'>\n"
     ]
    }
   ],
   "source": [
    "import re\n",
    "\n",
    "# faire une expression régulière qui match 10 chiffres\n",
    "print(re.match(\"\\d{10}$\", \"0634561489\"))\n",
    "\n",
    "# faire une expression régulière qui match les numéros de téléphone sous la forme xx.xx.xx.xx.xx\n",
    "print(re.match(\"(\\d{2}\\.){4}\\d{2}$\", \"06.34.56.14.89\"))\n",
    "\n",
    "# faire une expression régulière qui match les numéros de téléphone sous la forme xx.xx.xx.xx.xx / xx xx xx xx xx / xxxxxxxxxx\n",
    "# print(re.match(\"(\\d{2}[ .]?){4}\\d{2}$\", \"06 34 5614.89\"))\n",
    "print(re.match(\"((\\d{2}\\.){4}\\d{2}|(\\d{2} ){4}\\d{2}|(\\d{2}){4}\\d{2})$\", \"06 34 56 14 89\"))\n"
   ]
  },
  {
   "cell_type": "code",
   "execution_count": null,
   "metadata": {},
   "outputs": [],
   "source": []
  }
 ],
 "metadata": {
  "kernelspec": {
   "display_name": "Python 3",
   "language": "python",
   "name": "python3"
  },
  "language_info": {
   "codemirror_mode": {
    "name": "ipython",
    "version": 3
   },
   "file_extension": ".py",
   "mimetype": "text/x-python",
   "name": "python",
   "nbconvert_exporter": "python",
   "pygments_lexer": "ipython3",
   "version": "3.7.3"
  }
 },
 "nbformat": 4,
 "nbformat_minor": 4
}
