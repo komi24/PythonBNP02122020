{
 "cells": [
  {
   "cell_type": "code",
   "execution_count": 5,
   "metadata": {},
   "outputs": [
    {
     "name": "stdout",
     "output_type": "stream",
     "text": [
      "None\n"
     ]
    }
   ],
   "source": [
    "import re\n",
    "\n",
    "print(re.match(\"GR.?S\", \"GRAAAS\"))"
   ]
  },
  {
   "cell_type": "code",
   "execution_count": 10,
   "metadata": {},
   "outputs": [
    {
     "name": "stdout",
     "output_type": "stream",
     "text": [
      "['111', '222']\n"
     ]
    }
   ],
   "source": [
    "print(re.findall(\"([0-9]+)\",\"Bonjour 111 Aurevoir 222\"))"
   ]
  },
  {
   "cell_type": "code",
   "execution_count": 12,
   "metadata": {},
   "outputs": [
    {
     "name": "stdout",
     "output_type": "stream",
     "text": [
      "Bonjour XXX Aurevoir XXX\n"
     ]
    }
   ],
   "source": [
    "print(re.sub(\"([0-9]+)\",\"XXX\", \"Bonjour 111 Aurevoir 222\"))"
   ]
  },
  {
   "cell_type": "code",
   "execution_count": 17,
   "metadata": {},
   "outputs": [
    {
     "name": "stdout",
     "output_type": "stream",
     "text": [
      "<re.Match object; span=(0, 4), match='GRAS'>\n"
     ]
    }
   ],
   "source": [
    "print(re.match(\"GR[A-Z]?S\", \"GRAS\"))"
   ]
  },
  {
   "cell_type": "code",
   "execution_count": null,
   "metadata": {},
   "outputs": [],
   "source": [
    "import re\n",
    "\n",
    "# faire une expression régulière qui match 10 chiffres\n",
    "print(re.match(\"GR.?S\", \"GRAAAS\"))\n",
    "\n",
    "# faire une expression régulière qui match les numéros de téléphone sous la forme xx.xx.xx.xx.xx\n",
    "\n",
    "# faire une expression régulière qui match les numéros de téléphone sous la forme xx.xx.xx.xx.xx / xx xx xx xx xx / xxxxxxxxxx\n"
   ]
  }
 ],
 "metadata": {
  "kernelspec": {
   "display_name": "Python 3",
   "language": "python",
   "name": "python3"
  },
  "language_info": {
   "codemirror_mode": {
    "name": "ipython",
    "version": 3
   },
   "file_extension": ".py",
   "mimetype": "text/x-python",
   "name": "python",
   "nbconvert_exporter": "python",
   "pygments_lexer": "ipython3",
   "version": "3.7.3"
  }
 },
 "nbformat": 4,
 "nbformat_minor": 4
}
