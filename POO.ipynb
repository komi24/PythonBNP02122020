{
 "cells": [
  {
   "cell_type": "code",
   "execution_count": 5,
   "metadata": {},
   "outputs": [],
   "source": [
    "class Personne:\n",
    "    def __init__(self):\n",
    "        self.prenom = \"Virginie\"\n",
    "        self.nom = \"Dupont\"\n",
    "        \n",
    "une_personne = Personne()\n",
    "autre_personne = Personne()"
   ]
  },
  {
   "cell_type": "code",
   "execution_count": 7,
   "metadata": {},
   "outputs": [
    {
     "name": "stdout",
     "output_type": "stream",
     "text": [
      "Virginie\n",
      "Virginie\n",
      "Mathieu\n",
      "Virginie\n"
     ]
    }
   ],
   "source": [
    "print(une_personne.prenom)\n",
    "print(autre_personne.prenom)\n",
    "\n",
    "une_personne.prenom = \"Mathieu\"\n",
    "print(une_personne.prenom)\n",
    "print(autre_personne.prenom)\n"
   ]
  },
  {
   "cell_type": "code",
   "execution_count": 3,
   "metadata": {},
   "outputs": [
    {
     "name": "stdout",
     "output_type": "stream",
     "text": [
      "Dupont\n"
     ]
    }
   ],
   "source": [
    "print(une_personne.nom)"
   ]
  },
  {
   "cell_type": "code",
   "execution_count": 8,
   "metadata": {},
   "outputs": [],
   "source": [
    "class Personne:\n",
    "    def __init__(self, prenom_param, nom_param, age_param=40):\n",
    "        self.prenom = prenom_param\n",
    "        self.nom = nom_param\n",
    "        \n",
    "une_personne = Personne(\"Virginie\", \"Dupont\")\n",
    "autre_personne = Personne(\"Mathieu\", \"Chedid\")"
   ]
  },
  {
   "cell_type": "code",
   "execution_count": 10,
   "metadata": {},
   "outputs": [
    {
     "name": "stdout",
     "output_type": "stream",
     "text": [
      "Virginie\n",
      "Mathieu\n"
     ]
    }
   ],
   "source": [
    "print(une_personne.prenom)\n",
    "print(autre_personne.prenom)\n"
   ]
  },
  {
   "cell_type": "code",
   "execution_count": 11,
   "metadata": {},
   "outputs": [
    {
     "ename": "AttributeError",
     "evalue": "'Personne' object has no attribute 'age'",
     "output_type": "error",
     "traceback": [
      "\u001b[1;31m---------------------------------------------------------------------------\u001b[0m",
      "\u001b[1;31mAttributeError\u001b[0m                            Traceback (most recent call last)",
      "\u001b[1;32m<ipython-input-11-2571e4a7a3d4>\u001b[0m in \u001b[0;36m<module>\u001b[1;34m\u001b[0m\n\u001b[1;32m----> 1\u001b[1;33m \u001b[0mprint\u001b[0m\u001b[1;33m(\u001b[0m\u001b[0mune_personne\u001b[0m\u001b[1;33m.\u001b[0m\u001b[0mage\u001b[0m\u001b[1;33m)\u001b[0m\u001b[1;33m\u001b[0m\u001b[1;33m\u001b[0m\u001b[0m\n\u001b[0m",
      "\u001b[1;31mAttributeError\u001b[0m: 'Personne' object has no attribute 'age'"
     ]
    }
   ],
   "source": [
    "print(une_personne.age)"
   ]
  },
  {
   "cell_type": "code",
   "execution_count": 12,
   "metadata": {},
   "outputs": [
    {
     "name": "stdout",
     "output_type": "stream",
     "text": [
      "40\n",
      "52\n"
     ]
    }
   ],
   "source": [
    "class Personne:\n",
    "    def __init__(self, prenom_param, nom_param, age_param=40):\n",
    "        self.prenom = prenom_param\n",
    "        self.nom = nom_param\n",
    "        self.age = age_param\n",
    "        \n",
    "une_personne = Personne(\"Virginie\", \"Dupont\")\n",
    "autre_personne = Personne(\"Mathieu\", \"Chedid\", 52)\n",
    "\n",
    "print(une_personne.age)\n",
    "print(autre_personne.age)"
   ]
  },
  {
   "cell_type": "code",
   "execution_count": 13,
   "metadata": {},
   "outputs": [
    {
     "name": "stdout",
     "output_type": "stream",
     "text": [
      "0\n",
      "1\n"
     ]
    }
   ],
   "source": [
    "\"\"\"\n",
    "Faire une classe voiture\n",
    "L'init de voiture prend marque et position en paramètres obligatoire\n",
    "L'init de voiture prend couleur en paramètres optionnel (par défaut ça sera \"rouge\")\n",
    "vitesse est toujours initialisé à 1\n",
    "\n",
    "attributs : \n",
    "    - couleur\n",
    "    - marque\n",
    "    - vitesse\n",
    "    - position (int)\n",
    "    \n",
    "methodes :\n",
    "    - avancer() augmente position de vitesste (nouvelle position = ancienne position + vitesse)\n",
    "    - reculer() diminue position de vitesste (nouvelle position = ancienne position - vitesse)\n",
    "\"\"\"\n",
    "\n",
    "class Voiture:\n",
    "    def __init__(self, marque, position, couleur=\"rouge\"):\n",
    "        self.vitesse = 1\n",
    "        self.marque = marque\n",
    "        self.position = position\n",
    "        self.couleur = couleur\n",
    "        \n",
    "    def avancer(self):\n",
    "        self.position += self.vitesse\n",
    "        \n",
    "    def reculer(self):\n",
    "        self.position -= self.vitesse\n",
    "        \n",
    "        \n",
    "une_voiture = Voiture(\"Renault\", 0)\n",
    "print(une_voiture.position)\n",
    "une_voiture.avancer()\n",
    "print(une_voiture.position)"
   ]
  },
  {
   "cell_type": "code",
   "execution_count": null,
   "metadata": {},
   "outputs": [],
   "source": []
  },
  {
   "cell_type": "code",
   "execution_count": 19,
   "metadata": {},
   "outputs": [
    {
     "name": "stdout",
     "output_type": "stream",
     "text": [
      "0\n",
      "0\n",
      "1\n",
      "0\n",
      "Bonjour je suis Virginie Dupont\n"
     ]
    }
   ],
   "source": [
    "class Personne:\n",
    "    def __init__(self, prenom_param, nom_param, age_param=40):\n",
    "        self.prenom = prenom_param\n",
    "        self.nom = nom_param\n",
    "        self.age = age_param\n",
    "        self.voiture = Voiture(\"Renault\", 0)\n",
    "        \n",
    "    def dire_bonjour(self):\n",
    "        print(f\"Bonjour je suis {self.prenom} {self.nom}\")\n",
    "        \n",
    "une_personne = Personne(\"Virginie\", \"Dupont\")\n",
    "autre_personne = Personne(\"Mathieu\", \"Chedid\", 52)\n",
    "\n",
    "print(une_personne.voiture.position)\n",
    "print(autre_personne.voiture.position)\n",
    "une_personne.voiture.avancer()\n",
    "print(une_personne.voiture.position)\n",
    "print(autre_personne.voiture.position)\n",
    "\n",
    "une_personne.dire_bonjour()"
   ]
  },
  {
   "cell_type": "code",
   "execution_count": 20,
   "metadata": {},
   "outputs": [
    {
     "name": "stdout",
     "output_type": "stream",
     "text": [
      "10\n",
      "0\n",
      "11\n",
      "0\n",
      "Bonjour je suis Virginie Dupont\n"
     ]
    }
   ],
   "source": [
    "class Personne:\n",
    "    def __init__(self, prenom_param, nom_param, age_param=40, voiture=Voiture(\"Renault\", 0)):\n",
    "        self.prenom = prenom_param\n",
    "        self.nom = nom_param\n",
    "        self.age = age_param\n",
    "        self.voiture = voiture\n",
    "        \n",
    "    def dire_bonjour(self):\n",
    "        print(f\"Bonjour je suis {self.prenom} {self.nom}\")\n",
    "        \n",
    "une_personne = Personne(\"Virginie\", \"Dupont\", voiture=Voiture(\"Mercedes\", 10))\n",
    "autre_personne = Personne(\"Mathieu\", \"Chedid\", 52)\n",
    "\n",
    "print(une_personne.voiture.position)\n",
    "print(autre_personne.voiture.position)\n",
    "une_personne.voiture.avancer()\n",
    "print(une_personne.voiture.position)\n",
    "print(autre_personne.voiture.position)\n",
    "\n",
    "une_personne.dire_bonjour()"
   ]
  },
  {
   "cell_type": "code",
   "execution_count": 21,
   "metadata": {},
   "outputs": [
    {
     "name": "stdout",
     "output_type": "stream",
     "text": [
      "<__main__.Personne object at 0x000002825E9FC160>\n"
     ]
    }
   ],
   "source": [
    "print(une_personne)"
   ]
  },
  {
   "cell_type": "code",
   "execution_count": 22,
   "metadata": {},
   "outputs": [
    {
     "name": "stdout",
     "output_type": "stream",
     "text": [
      "Prenom : Virginie, nom : Dupont, voiture: Mercedes - 10\n",
      "Prenom : Mathieu, nom : Chedid, voiture: Renault - 0\n",
      "Prenom : Virginie, nom : Dupont, voiture: Mercedes - 11\n",
      "Prenom : Mathieu, nom : Chedid, voiture: Renault - 0\n",
      "Bonjour je suis Virginie Dupont\n"
     ]
    }
   ],
   "source": [
    "class Personne:\n",
    "    def __init__(self, prenom_param, nom_param, age_param=40, voiture=Voiture(\"Renault\", 0)):\n",
    "        self.prenom = prenom_param\n",
    "        self.nom = nom_param\n",
    "        self.age = age_param\n",
    "        self.voiture = voiture\n",
    "        \n",
    "    def dire_bonjour(self):\n",
    "        print(f\"Bonjour je suis {self.prenom} {self.nom}\")\n",
    "        \n",
    "    def __repr__(self):\n",
    "        return f\"Prenom : {self.prenom}, nom : {self.nom}, voiture: {self.voiture.marque} - {self.voiture.position}\"\n",
    "        \n",
    "une_personne = Personne(\"Virginie\", \"Dupont\", voiture=Voiture(\"Mercedes\", 10))\n",
    "autre_personne = Personne(\"Mathieu\", \"Chedid\", 52)\n",
    "\n",
    "print(une_personne)\n",
    "print(autre_personne)\n",
    "une_personne.voiture.avancer()\n",
    "print(une_personne)\n",
    "print(autre_personne)\n",
    "\n",
    "une_personne.dire_bonjour()"
   ]
  },
  {
   "cell_type": "code",
   "execution_count": 14,
   "metadata": {},
   "outputs": [
    {
     "ename": "AssertionError",
     "evalue": "Age doit être positif",
     "output_type": "error",
     "traceback": [
      "\u001b[1;31m---------------------------------------------------------------------------\u001b[0m",
      "\u001b[1;31mAssertionError\u001b[0m                            Traceback (most recent call last)",
      "\u001b[1;32m<ipython-input-14-821a9e33b98d>\u001b[0m in \u001b[0;36m<module>\u001b[1;34m\u001b[0m\n\u001b[0;32m     20\u001b[0m \u001b[1;33m\u001b[0m\u001b[0m\n\u001b[0;32m     21\u001b[0m \u001b[0mune_personne\u001b[0m \u001b[1;33m=\u001b[0m \u001b[0mPersonne\u001b[0m\u001b[1;33m(\u001b[0m\u001b[1;34m\"Virginie\"\u001b[0m\u001b[1;33m,\u001b[0m \u001b[1;34m\"Dupont\"\u001b[0m\u001b[1;33m,\u001b[0m \u001b[0mvoiture\u001b[0m\u001b[1;33m=\u001b[0m\u001b[0mVoiture\u001b[0m\u001b[1;33m(\u001b[0m\u001b[1;34m\"Mercedes\"\u001b[0m\u001b[1;33m,\u001b[0m \u001b[1;36m10\u001b[0m\u001b[1;33m)\u001b[0m\u001b[1;33m)\u001b[0m\u001b[1;33m\u001b[0m\u001b[1;33m\u001b[0m\u001b[0m\n\u001b[1;32m---> 22\u001b[1;33m \u001b[0mautre_personne\u001b[0m \u001b[1;33m=\u001b[0m \u001b[0mPersonne\u001b[0m\u001b[1;33m(\u001b[0m\u001b[1;34m\"Mathieu\"\u001b[0m\u001b[1;33m,\u001b[0m \u001b[1;34m\"Chedid\"\u001b[0m\u001b[1;33m,\u001b[0m \u001b[1;33m-\u001b[0m\u001b[1;36m52\u001b[0m\u001b[1;33m)\u001b[0m\u001b[1;33m\u001b[0m\u001b[1;33m\u001b[0m\u001b[0m\n\u001b[0m\u001b[0;32m     23\u001b[0m \u001b[1;33m\u001b[0m\u001b[0m\n\u001b[0;32m     24\u001b[0m \u001b[0mprint\u001b[0m\u001b[1;33m(\u001b[0m\u001b[0mune_personne\u001b[0m\u001b[1;33m)\u001b[0m\u001b[1;33m\u001b[0m\u001b[1;33m\u001b[0m\u001b[0m\n",
      "\u001b[1;32m<ipython-input-14-821a9e33b98d>\u001b[0m in \u001b[0;36m__init__\u001b[1;34m(self, prenom_param, nom_param, age_param, voiture)\u001b[0m\n\u001b[0;32m      1\u001b[0m \u001b[1;32mclass\u001b[0m \u001b[0mPersonne\u001b[0m\u001b[1;33m:\u001b[0m\u001b[1;33m\u001b[0m\u001b[1;33m\u001b[0m\u001b[0m\n\u001b[0;32m      2\u001b[0m     \u001b[1;32mdef\u001b[0m \u001b[0m__init__\u001b[0m\u001b[1;33m(\u001b[0m\u001b[0mself\u001b[0m\u001b[1;33m,\u001b[0m \u001b[0mprenom_param\u001b[0m\u001b[1;33m,\u001b[0m \u001b[0mnom_param\u001b[0m\u001b[1;33m,\u001b[0m \u001b[0mage_param\u001b[0m\u001b[1;33m=\u001b[0m\u001b[1;36m40\u001b[0m\u001b[1;33m,\u001b[0m \u001b[0mvoiture\u001b[0m\u001b[1;33m=\u001b[0m\u001b[0mVoiture\u001b[0m\u001b[1;33m(\u001b[0m\u001b[1;34m\"Renault\"\u001b[0m\u001b[1;33m,\u001b[0m \u001b[1;36m0\u001b[0m\u001b[1;33m)\u001b[0m\u001b[1;33m)\u001b[0m\u001b[1;33m:\u001b[0m\u001b[1;33m\u001b[0m\u001b[1;33m\u001b[0m\u001b[0m\n\u001b[1;32m----> 3\u001b[1;33m         \u001b[1;32massert\u001b[0m \u001b[0mage_param\u001b[0m \u001b[1;33m>=\u001b[0m \u001b[1;36m0\u001b[0m\u001b[1;33m,\u001b[0m \u001b[1;34m\"Age doit être positif\"\u001b[0m\u001b[1;33m\u001b[0m\u001b[1;33m\u001b[0m\u001b[0m\n\u001b[0m\u001b[0;32m      4\u001b[0m         \u001b[0mself\u001b[0m\u001b[1;33m.\u001b[0m\u001b[0mprenom\u001b[0m \u001b[1;33m=\u001b[0m \u001b[0mprenom_param\u001b[0m\u001b[1;33m\u001b[0m\u001b[1;33m\u001b[0m\u001b[0m\n\u001b[0;32m      5\u001b[0m         \u001b[0mself\u001b[0m\u001b[1;33m.\u001b[0m\u001b[0mnom\u001b[0m \u001b[1;33m=\u001b[0m \u001b[0mnom_param\u001b[0m\u001b[1;33m\u001b[0m\u001b[1;33m\u001b[0m\u001b[0m\n",
      "\u001b[1;31mAssertionError\u001b[0m: Age doit être positif"
     ]
    }
   ],
   "source": [
    "class Personne:\n",
    "    def __init__(self, prenom_param, nom_param, age_param=40, voiture=Voiture(\"Renault\", 0)):\n",
    "        assert age_param >= 0, \"Age doit être positif\"\n",
    "        self.prenom = prenom_param\n",
    "        self.nom = nom_param\n",
    "        self.age = age_param\n",
    "        self.voiture = voiture\n",
    "        \n",
    "    def dire_bonjour(self):\n",
    "        print(f\"Bonjour je suis {self.prenom} {self.nom}\")\n",
    "        \n",
    "    def __repr__(self):\n",
    "        return f\"Prenom : {self.prenom}, nom : {self.nom}, voiture: {self.voiture.marque} - {self.voiture.position}\"\n",
    "    \n",
    "    def __lt__(self,  other):\n",
    "        return self.age < other.age\n",
    "\n",
    "    def __eq__(self,  other):\n",
    "        return self.age == other.age\n",
    "\n",
    "une_personne = Personne(\"Virginie\", \"Dupont\", voiture=Voiture(\"Mercedes\", 10))\n",
    "autre_personne = Personne(\"Mathieu\", \"Chedid\", -52)\n",
    "\n",
    "print(une_personne)\n",
    "print(autre_personne)\n",
    "une_personne.voiture.avancer()\n",
    "print(une_personne)\n",
    "print(autre_personne)\n",
    "\n",
    "une_personne < autre_personne"
   ]
  },
  {
   "cell_type": "code",
   "execution_count": 24,
   "metadata": {},
   "outputs": [
    {
     "name": "stdout",
     "output_type": "stream",
     "text": [
      "0\n",
      "1\n"
     ]
    }
   ],
   "source": [
    "\"\"\"\n",
    "Faire une classe voiture\n",
    "L'init de voiture prend marque et position en paramètres obligatoire\n",
    "L'init de voiture prend couleur en paramètres optionnel (par défaut ça sera \"rouge\")\n",
    "vitesse est toujours initialisé à 1\n",
    "\n",
    "attributs : \n",
    "    - couleur\n",
    "    - marque\n",
    "    - vitesse\n",
    "    - position (int)\n",
    "    \n",
    "methodes :\n",
    "    - avancer() augmente position de vitesste (nouvelle position = ancienne position + vitesse)\n",
    "    - reculer() diminue position de vitesste (nouvelle position = ancienne position - vitesse)\n",
    "    \n",
    "Ajouter une relation d'ordre pour les voitures en fonction de leur position\n",
    "\"\"\"\n",
    "\n",
    "class Voiture:\n",
    "    def __init__(self, marque, position, couleur=\"rouge\"):\n",
    "        self.vitesse = 1\n",
    "        self.marque = marque\n",
    "        self.position = position\n",
    "        self.couleur = couleur\n",
    "        \n",
    "    def avancer(self):\n",
    "        self.position += self.vitesse\n",
    "        \n",
    "    def reculer(self):\n",
    "        self.position -= self.vitesse\n",
    "        \n",
    "    def __lt__(self, other):\n",
    "        return self.position < other.position\n",
    "        \n",
    "    def __eq__(self, other):\n",
    "        return self.position == other.position\n",
    "        \n",
    "        \n",
    "une_voiture = Voiture(\"Renault\", 0)\n",
    "print(une_voiture.position)\n",
    "une_voiture.avancer()\n",
    "print(une_voiture.position)"
   ]
  },
  {
   "cell_type": "code",
   "execution_count": 11,
   "metadata": {},
   "outputs": [
    {
     "name": "stdout",
     "output_type": "stream",
     "text": [
      "Bonjour je suis Alice Martin. J'ai 1000 euros\n",
      "Bonjour je suis Romain Pouzaud. J'ai 1000 euros\n",
      "Bonjour je suis Alice Martin. J'ai 11000 euros\n",
      "Bonjour je suis Romain Pouzaud. J'ai -9000 euros\n"
     ]
    }
   ],
   "source": [
    "\"\"\"\n",
    "    Une classe personne prenom, nom, age (optionnel 30), compte: Compte (optionnel init à 1000)\n",
    "    methodes : dire_bonjour (afficher \"Bonjour je suis prenom nom. J'ai solde euros\")\n",
    "    \n",
    "    Une classe Compte avec un attribut solde\n",
    "    méthodes :\n",
    "        - retirer(montant) ajoute le montant au solde\n",
    "        - deposer(montant) retire le montant au solde\n",
    "        \n",
    "        \n",
    "    rajouter une methode transfert_a(autre_personne, montant) \n",
    "        -> ajouter au solde d'autre_personne le montant et le retire de notre solde\n",
    "\"\"\"\n",
    "class Compte:\n",
    "    def __init__(self, solde):\n",
    "        self.solde = solde\n",
    "\n",
    "    def retirer(self, montant):\n",
    "        self.solde -= montant\n",
    "    \n",
    "    def ajouter(self, montant):\n",
    "        self.solde += montant\n",
    "\n",
    "        \n",
    "class Personne:\n",
    "    def __init__(self, prenom, nom, age=30, solde=1000):\n",
    "        self.prenom = prenom\n",
    "        self.nom = nom\n",
    "        self.age = age\n",
    "        self.compte = Compte(solde)\n",
    "        \n",
    "    def dire_bonjour(self):\n",
    "        print(f\"Bonjour je suis {self.prenom} {self.nom}. J'ai {self.compte.solde} euros\")\n",
    "        \n",
    "    def transfert_a(self, autre_personne, montant):\n",
    "        self.compte.retirer(montant)\n",
    "        autre_personne.compte.ajouter(montant)\n",
    "    \n",
    "    \n",
    "        \n",
    "        \n",
    "alice = Personne(\"Alice\", \"Martin\")\n",
    "romain = Personne(\"Romain\", \"Pouzaud\")\n",
    "\n",
    "alice.dire_bonjour()\n",
    "romain.dire_bonjour()\n",
    "\n",
    "alice.transfert_a(romain, -10000)\n",
    "\n",
    "alice.dire_bonjour()\n",
    "romain.dire_bonjour()\n"
   ]
  },
  {
   "cell_type": "markdown",
   "metadata": {},
   "source": [
    "## Les assertions et les erreurs"
   ]
  },
  {
   "cell_type": "code",
   "execution_count": 15,
   "metadata": {},
   "outputs": [
    {
     "ename": "AssertionError",
     "evalue": "Age doit être positif",
     "output_type": "error",
     "traceback": [
      "\u001b[1;31m---------------------------------------------------------------------------\u001b[0m",
      "\u001b[1;31mAssertionError\u001b[0m                            Traceback (most recent call last)",
      "\u001b[1;32m<ipython-input-15-821a9e33b98d>\u001b[0m in \u001b[0;36m<module>\u001b[1;34m\u001b[0m\n\u001b[0;32m     20\u001b[0m \u001b[1;33m\u001b[0m\u001b[0m\n\u001b[0;32m     21\u001b[0m \u001b[0mune_personne\u001b[0m \u001b[1;33m=\u001b[0m \u001b[0mPersonne\u001b[0m\u001b[1;33m(\u001b[0m\u001b[1;34m\"Virginie\"\u001b[0m\u001b[1;33m,\u001b[0m \u001b[1;34m\"Dupont\"\u001b[0m\u001b[1;33m,\u001b[0m \u001b[0mvoiture\u001b[0m\u001b[1;33m=\u001b[0m\u001b[0mVoiture\u001b[0m\u001b[1;33m(\u001b[0m\u001b[1;34m\"Mercedes\"\u001b[0m\u001b[1;33m,\u001b[0m \u001b[1;36m10\u001b[0m\u001b[1;33m)\u001b[0m\u001b[1;33m)\u001b[0m\u001b[1;33m\u001b[0m\u001b[1;33m\u001b[0m\u001b[0m\n\u001b[1;32m---> 22\u001b[1;33m \u001b[0mautre_personne\u001b[0m \u001b[1;33m=\u001b[0m \u001b[0mPersonne\u001b[0m\u001b[1;33m(\u001b[0m\u001b[1;34m\"Mathieu\"\u001b[0m\u001b[1;33m,\u001b[0m \u001b[1;34m\"Chedid\"\u001b[0m\u001b[1;33m,\u001b[0m \u001b[1;33m-\u001b[0m\u001b[1;36m52\u001b[0m\u001b[1;33m)\u001b[0m\u001b[1;33m\u001b[0m\u001b[1;33m\u001b[0m\u001b[0m\n\u001b[0m\u001b[0;32m     23\u001b[0m \u001b[1;33m\u001b[0m\u001b[0m\n\u001b[0;32m     24\u001b[0m \u001b[0mprint\u001b[0m\u001b[1;33m(\u001b[0m\u001b[0mune_personne\u001b[0m\u001b[1;33m)\u001b[0m\u001b[1;33m\u001b[0m\u001b[1;33m\u001b[0m\u001b[0m\n",
      "\u001b[1;32m<ipython-input-15-821a9e33b98d>\u001b[0m in \u001b[0;36m__init__\u001b[1;34m(self, prenom_param, nom_param, age_param, voiture)\u001b[0m\n\u001b[0;32m      1\u001b[0m \u001b[1;32mclass\u001b[0m \u001b[0mPersonne\u001b[0m\u001b[1;33m:\u001b[0m\u001b[1;33m\u001b[0m\u001b[1;33m\u001b[0m\u001b[0m\n\u001b[0;32m      2\u001b[0m     \u001b[1;32mdef\u001b[0m \u001b[0m__init__\u001b[0m\u001b[1;33m(\u001b[0m\u001b[0mself\u001b[0m\u001b[1;33m,\u001b[0m \u001b[0mprenom_param\u001b[0m\u001b[1;33m,\u001b[0m \u001b[0mnom_param\u001b[0m\u001b[1;33m,\u001b[0m \u001b[0mage_param\u001b[0m\u001b[1;33m=\u001b[0m\u001b[1;36m40\u001b[0m\u001b[1;33m,\u001b[0m \u001b[0mvoiture\u001b[0m\u001b[1;33m=\u001b[0m\u001b[0mVoiture\u001b[0m\u001b[1;33m(\u001b[0m\u001b[1;34m\"Renault\"\u001b[0m\u001b[1;33m,\u001b[0m \u001b[1;36m0\u001b[0m\u001b[1;33m)\u001b[0m\u001b[1;33m)\u001b[0m\u001b[1;33m:\u001b[0m\u001b[1;33m\u001b[0m\u001b[1;33m\u001b[0m\u001b[0m\n\u001b[1;32m----> 3\u001b[1;33m         \u001b[1;32massert\u001b[0m \u001b[0mage_param\u001b[0m \u001b[1;33m>=\u001b[0m \u001b[1;36m0\u001b[0m\u001b[1;33m,\u001b[0m \u001b[1;34m\"Age doit être positif\"\u001b[0m\u001b[1;33m\u001b[0m\u001b[1;33m\u001b[0m\u001b[0m\n\u001b[0m\u001b[0;32m      4\u001b[0m         \u001b[0mself\u001b[0m\u001b[1;33m.\u001b[0m\u001b[0mprenom\u001b[0m \u001b[1;33m=\u001b[0m \u001b[0mprenom_param\u001b[0m\u001b[1;33m\u001b[0m\u001b[1;33m\u001b[0m\u001b[0m\n\u001b[0;32m      5\u001b[0m         \u001b[0mself\u001b[0m\u001b[1;33m.\u001b[0m\u001b[0mnom\u001b[0m \u001b[1;33m=\u001b[0m \u001b[0mnom_param\u001b[0m\u001b[1;33m\u001b[0m\u001b[1;33m\u001b[0m\u001b[0m\n",
      "\u001b[1;31mAssertionError\u001b[0m: Age doit être positif"
     ]
    }
   ],
   "source": [
    "class Personne:\n",
    "    def __init__(self, prenom_param, nom_param, age_param=40, voiture=Voiture(\"Renault\", 0)):\n",
    "        assert age_param >= 0, \"Age doit être positif\"\n",
    "        self.prenom = prenom_param\n",
    "        self.nom = nom_param\n",
    "        self.age = age_param\n",
    "        self.voiture = voiture\n",
    "        \n",
    "    def dire_bonjour(self):\n",
    "        print(f\"Bonjour je suis {self.prenom} {self.nom}\")\n",
    "        \n",
    "    def __repr__(self):\n",
    "        return f\"Prenom : {self.prenom}, nom : {self.nom}, voiture: {self.voiture.marque} - {self.voiture.position}\"\n",
    "    \n",
    "    def __lt__(self,  other):\n",
    "        return self.age < other.age\n",
    "\n",
    "    def __eq__(self,  other):\n",
    "        return self.age == other.age\n",
    "\n",
    "une_personne = Personne(\"Virginie\", \"Dupont\", voiture=Voiture(\"Mercedes\", 10))\n",
    "autre_personne = Personne(\"Mathieu\", \"Chedid\", -52)\n",
    "\n",
    "print(une_personne)\n",
    "print(autre_personne)\n",
    "une_personne.voiture.avancer()\n",
    "print(une_personne)\n",
    "print(autre_personne)\n",
    "\n",
    "une_personne < autre_personne"
   ]
  },
  {
   "cell_type": "code",
   "execution_count": 28,
   "metadata": {},
   "outputs": [
    {
     "name": "stdout",
     "output_type": "stream",
     "text": [
      "Bonjour je suis Alice Martin. J'ai 1000 euros\n",
      "Bonjour je suis Romain Pouzaud. J'ai 1000 euros\n",
      "Il y a une erreur de programmation\n",
      "Executé pour nettoyage\n"
     ]
    },
    {
     "ename": "NameError",
     "evalue": "name 'ojfeozjf' is not defined",
     "output_type": "error",
     "traceback": [
      "\u001b[1;31m---------------------------------------------------------------------------\u001b[0m",
      "\u001b[1;31mNameError\u001b[0m                                 Traceback (most recent call last)",
      "\u001b[1;32m<ipython-input-28-4d4f91e4e6f6>\u001b[0m in \u001b[0;36m<module>\u001b[1;34m\u001b[0m\n\u001b[0;32m     48\u001b[0m \u001b[1;32mexcept\u001b[0m \u001b[0mNameError\u001b[0m \u001b[1;32mas\u001b[0m \u001b[0me\u001b[0m\u001b[1;33m:\u001b[0m\u001b[1;33m\u001b[0m\u001b[1;33m\u001b[0m\u001b[0m\n\u001b[0;32m     49\u001b[0m     \u001b[0mprint\u001b[0m\u001b[1;33m(\u001b[0m\u001b[1;34m\"Il y a une erreur de programmation\"\u001b[0m\u001b[1;33m)\u001b[0m\u001b[1;33m\u001b[0m\u001b[1;33m\u001b[0m\u001b[0m\n\u001b[1;32m---> 50\u001b[1;33m     \u001b[1;32mraise\u001b[0m \u001b[0me\u001b[0m\u001b[1;33m\u001b[0m\u001b[1;33m\u001b[0m\u001b[0m\n\u001b[0m\u001b[0;32m     51\u001b[0m \u001b[1;32mexcept\u001b[0m \u001b[0mAssertionError\u001b[0m \u001b[1;32mas\u001b[0m \u001b[0me\u001b[0m\u001b[1;33m:\u001b[0m\u001b[1;33m\u001b[0m\u001b[1;33m\u001b[0m\u001b[0m\n\u001b[0;32m     52\u001b[0m     \u001b[0mprint\u001b[0m\u001b[1;33m(\u001b[0m\u001b[1;34m\"Error : réessayer\"\u001b[0m\u001b[1;33m)\u001b[0m\u001b[1;33m\u001b[0m\u001b[1;33m\u001b[0m\u001b[0m\n",
      "\u001b[1;32m<ipython-input-28-4d4f91e4e6f6>\u001b[0m in \u001b[0;36m<module>\u001b[1;34m\u001b[0m\n\u001b[0;32m     43\u001b[0m \u001b[1;33m\u001b[0m\u001b[0m\n\u001b[0;32m     44\u001b[0m \u001b[1;32mtry\u001b[0m\u001b[1;33m:\u001b[0m\u001b[1;33m\u001b[0m\u001b[1;33m\u001b[0m\u001b[0m\n\u001b[1;32m---> 45\u001b[1;33m     \u001b[0mojfeozjf\u001b[0m \u001b[1;33m+\u001b[0m \u001b[1;36m2\u001b[0m\u001b[1;33m\u001b[0m\u001b[1;33m\u001b[0m\u001b[0m\n\u001b[0m\u001b[0;32m     46\u001b[0m     \u001b[0mmontant\u001b[0m \u001b[1;33m=\u001b[0m \u001b[0mint\u001b[0m\u001b[1;33m(\u001b[0m\u001b[0minput\u001b[0m\u001b[1;33m(\u001b[0m\u001b[1;34m\"Combien voulez-vous transferer ?\"\u001b[0m\u001b[1;33m)\u001b[0m\u001b[1;33m)\u001b[0m\u001b[1;33m\u001b[0m\u001b[1;33m\u001b[0m\u001b[0m\n\u001b[0;32m     47\u001b[0m     \u001b[0malice\u001b[0m\u001b[1;33m.\u001b[0m\u001b[0mtransfert_a\u001b[0m\u001b[1;33m(\u001b[0m\u001b[0mromain\u001b[0m\u001b[1;33m,\u001b[0m \u001b[0mmontant\u001b[0m\u001b[1;33m)\u001b[0m\u001b[1;33m\u001b[0m\u001b[1;33m\u001b[0m\u001b[0m\n",
      "\u001b[1;31mNameError\u001b[0m: name 'ojfeozjf' is not defined"
     ]
    }
   ],
   "source": [
    "\"\"\"\n",
    "    ajouter des assert tel que les montants soit toujours positifs\n",
    "    Le solde reste toujours positif\n",
    "\"\"\"\n",
    "class Compte:\n",
    "    def __init__(self, solde):\n",
    "        self.solde = solde\n",
    "\n",
    "    def retirer(self, montant):\n",
    "        assert type(montant) in [int, float], \"montant doit etre un nombre\"\n",
    "        assert montant > 0, \"montant doit être positif\"\n",
    "        assert montant < self.solde, \"pas assez d'argent sur le compte\"\n",
    "        self.solde -= montant\n",
    "    \n",
    "    def ajouter(self, montant):\n",
    "        assert type(montant) in [int, float], \"montant doit etre un nombre\"\n",
    "        assert montant > 0, \"montant doit être positif\"\n",
    "        self.solde += montant\n",
    "\n",
    "        \n",
    "class Personne:\n",
    "    def __init__(self, prenom, nom, age=30, solde=1000):\n",
    "        self.prenom = prenom\n",
    "        self.nom = nom\n",
    "        self.age = age\n",
    "        self.compte = Compte(solde)\n",
    "        \n",
    "    def dire_bonjour(self):\n",
    "        print(f\"Bonjour je suis {self.prenom} {self.nom}. J'ai {self.compte.solde} euros\")\n",
    "        \n",
    "    def transfert_a(self, autre_personne, montant):\n",
    "        self.compte.retirer(montant)\n",
    "        autre_personne.compte.ajouter(montant)\n",
    "    \n",
    "    \n",
    "        \n",
    "        \n",
    "alice = Personne(\"Alice\", \"Martin\")\n",
    "romain = Personne(\"Romain\", \"Pouzaud\")\n",
    "# raise NameError()\n",
    "alice.dire_bonjour()\n",
    "romain.dire_bonjour()\n",
    "\n",
    "try:\n",
    "    # ojfeozjf + 2\n",
    "    montant = int(input(\"Combien voulez-vous transferer ?\"))\n",
    "    alice.transfert_a(romain, montant)\n",
    "except NameError as e:\n",
    "    print(\"Il y a une erreur de programmation\")\n",
    "    raise e\n",
    "except AssertionError as e:\n",
    "    print(\"Error : réessayer\")\n",
    "    montant = input(\"Combien voulez-vous transferer ?\")\n",
    "    alice.transfert_a(romain, montant)\n",
    "finally:\n",
    "    print(\"Executé pour nettoyage\")\n",
    "\n",
    "    \n",
    "alice.dire_bonjour()\n",
    "romain.dire_bonjour()\n"
   ]
  },
  {
   "cell_type": "code",
   "execution_count": 29,
   "metadata": {},
   "outputs": [
    {
     "ename": "NotEnoughMoney",
     "evalue": "",
     "output_type": "error",
     "traceback": [
      "\u001b[1;31m---------------------------------------------------------------------------\u001b[0m",
      "\u001b[1;31mNotEnoughMoney\u001b[0m                            Traceback (most recent call last)",
      "\u001b[1;32m<ipython-input-29-67fa9d44fc3e>\u001b[0m in \u001b[0;36m<module>\u001b[1;34m\u001b[0m\n\u001b[0;32m      2\u001b[0m     \u001b[1;32mpass\u001b[0m\u001b[1;33m\u001b[0m\u001b[1;33m\u001b[0m\u001b[0m\n\u001b[0;32m      3\u001b[0m \u001b[1;33m\u001b[0m\u001b[0m\n\u001b[1;32m----> 4\u001b[1;33m \u001b[1;32mraise\u001b[0m \u001b[0mNotEnoughMoney\u001b[0m\u001b[1;33m\u001b[0m\u001b[1;33m\u001b[0m\u001b[0m\n\u001b[0m",
      "\u001b[1;31mNotEnoughMoney\u001b[0m: "
     ]
    }
   ],
   "source": [
    "class NotEnoughMoney(Exception):\n",
    "    pass\n",
    "\n",
    "raise NotEnoughMoney"
   ]
  },
  {
   "cell_type": "code",
   "execution_count": null,
   "metadata": {},
   "outputs": [],
   "source": [
    "borne_min = 0\n",
    "borne_max = 101\n",
    "proposition = (borne_min + borne_max) // 2 \n",
    "reponse = None\n",
    "\n",
    "class BadResponse(Exception):\n",
    "    pass\n",
    "\n",
    "while reponse != \"E\":\n",
    "    reponse = input(f\"Est-ce que votre nombre mystère est {proposition} ? G/P/E\")\n",
    "#     assert reponse in [\"G\", \"P\", \"E\"]\n",
    "    if not (reponse in [\"G\", \"P\", \"E\"]):\n",
    "        raise BadResponseError\n",
    "    if reponse == \"G\":\n",
    "        # trop grand\n",
    "        borne_max = proposition\n",
    "    elif reponse == \"P\":\n",
    "        # trop petit\n",
    "        borne_min = proposition\n",
    "    proposition = (borne_min + borne_max) // 2\n",
    "\n",
    "print(\"Gagné !\")"
   ]
  },
  {
   "cell_type": "code",
   "execution_count": 34,
   "metadata": {},
   "outputs": [
    {
     "name": "stdout",
     "output_type": "stream",
     "text": [
      "1000\n",
      "Bonjour, je suis Roger Khoskas\n"
     ]
    },
    {
     "ename": "AttributeError",
     "evalue": "'Personne' object has no attribute 'compte'",
     "output_type": "error",
     "traceback": [
      "\u001b[1;31m---------------------------------------------------------------------------\u001b[0m",
      "\u001b[1;31mAttributeError\u001b[0m                            Traceback (most recent call last)",
      "\u001b[1;32m<ipython-input-34-5f0d8181dce7>\u001b[0m in \u001b[0;36m<module>\u001b[1;34m\u001b[0m\n\u001b[0;32m     17\u001b[0m \u001b[1;33m\u001b[0m\u001b[0m\n\u001b[0;32m     18\u001b[0m \u001b[0mclient1\u001b[0m \u001b[1;33m=\u001b[0m \u001b[0mPersonne\u001b[0m\u001b[1;33m(\u001b[0m\u001b[1;34m\"Roger\"\u001b[0m\u001b[1;33m,\u001b[0m \u001b[1;34m\"Khoskas\"\u001b[0m\u001b[1;33m)\u001b[0m\u001b[1;33m\u001b[0m\u001b[1;33m\u001b[0m\u001b[0m\n\u001b[1;32m---> 19\u001b[1;33m \u001b[0mprint\u001b[0m\u001b[1;33m(\u001b[0m\u001b[0mclient1\u001b[0m\u001b[1;33m.\u001b[0m\u001b[0mcompte\u001b[0m\u001b[1;33m.\u001b[0m\u001b[0msolde\u001b[0m\u001b[1;33m)\u001b[0m\u001b[1;33m\u001b[0m\u001b[1;33m\u001b[0m\u001b[0m\n\u001b[0m\u001b[0;32m     20\u001b[0m \u001b[0mclient1\u001b[0m\u001b[1;33m.\u001b[0m\u001b[0mdire_bonjour\u001b[0m\u001b[1;33m(\u001b[0m\u001b[1;33m)\u001b[0m\u001b[1;33m\u001b[0m\u001b[1;33m\u001b[0m\u001b[0m\n",
      "\u001b[1;31mAttributeError\u001b[0m: 'Personne' object has no attribute 'compte'"
     ]
    }
   ],
   "source": [
    "class Personne:\n",
    "    def __init__(self, prenom, nom):\n",
    "        self.prenom = prenom\n",
    "        self.nom = nom\n",
    "    def dire_bonjour(self):\n",
    "        print(f\"Bonjour, je suis {self.prenom} {self.nom}\")\n",
    "        \n",
    "        \n",
    "class Client(Personne):\n",
    "    def __init__(self, prenom, nom, compte):\n",
    "        Personne.__init__(self, prenom, nom)\n",
    "        self.compte = compte\n",
    "\n",
    "client1 = Client(\"Roger\", \"Khoskas\", Compte(1000))\n",
    "print(client1.compte.solde)\n",
    "client1.dire_bonjour()\n",
    "\n",
    "client1 = Personne(\"Roger\", \"Khoskas\")\n",
    "print(client1.compte.solde)\n",
    "client1.dire_bonjour()"
   ]
  },
  {
   "cell_type": "code",
   "execution_count": 46,
   "metadata": {},
   "outputs": [
    {
     "name": "stdout",
     "output_type": "stream",
     "text": [
      "14400.0\n"
     ]
    }
   ],
   "source": [
    "\"\"\"\n",
    "    Compte sans les vérifications (assert)\n",
    "    \n",
    "    CompteCheque et CompteEpargne qui hérite de compte\n",
    "    \n",
    "    CompteCheque a un attribut en plus qui est \"decouvert\".\n",
    "    Le solde d'un compte cheque ne peut pas être inférieur au découvert\n",
    "    \n",
    "    CompteEpargne a un attribut en plus qui est \"interet\".\n",
    "    Le solde d'un compte epargne ne peut pas être inférieur à 0\n",
    "    CompteEpargne a une methode annee_suivante qui rajoute au solde les intérets\n",
    "    \n",
    "\"\"\"\n",
    "\n",
    "class Compte:\n",
    "    def __init__(self, solde):\n",
    "        self.solde = solde\n",
    "\n",
    "    def retirer(self, montant):\n",
    "        assert type(montant) in [int, float], \"montant doit etre un nombre\"\n",
    "        assert montant > 0, \"montant doit être positif\"\n",
    "        self.solde -= montant\n",
    "    \n",
    "    def ajouter(self, montant):\n",
    "        assert type(montant) in [int, float], \"montant doit etre un nombre\"\n",
    "        assert montant > 0, \"montant doit être positif\"\n",
    "        self.solde += montant\n",
    "\n",
    "class CompteCheque(Compte):\n",
    "    def __init__(self, solde, decouvert):\n",
    "        Compte.__init__(self, solde)\n",
    "        assert type(decouvert) in [int, float], \"decouvert doit etre un nombre\"\n",
    "        assert decouvert > 0, \"Le découvert doit être positif\"\n",
    "        self.decouvert = decouvert\n",
    "    \n",
    "    def retirer(self, montant):\n",
    "        assert montant < self.solde + self.decouvert, \"Pas assez d'argent sur le compte\"\n",
    "        Compte.retirer(self, montant)\n",
    "                \n",
    "            \n",
    "class CompteEpargne(Compte):\n",
    "    def __init__(self, solde, interet):\n",
    "        Compte.__init__(self, solde)\n",
    "        assert type(interet) in [float,int], \"interet doit etre un float\"\n",
    "        assert interet >= 0 and interet <= 1, \"Le taux d'interet doit être entre 0 et 1\"\n",
    "        self.interet = interet\n",
    "    \n",
    "    def retirer(self, montant):\n",
    "        assert montant < self.solde, \"Pas assez d'argent sur le compte\"\n",
    "        Compte.retirer(self, montant)\n",
    "                \n",
    "    def annee_suivante(self):\n",
    "        self.solde += self.solde * self.interet\n",
    "        \n",
    "        \n",
    "compte_cheque = CompteCheque(12000, 500)\n",
    "compte_cheque.retirer(100)\n",
    "\n",
    "compte_epargne = CompteEpargne(12000, 0.2)\n",
    "compte_epargne.annee_suivante()\n",
    "print(compte_epargne.solde)"
   ]
  },
  {
   "cell_type": "code",
   "execution_count": null,
   "metadata": {},
   "outputs": [],
   "source": []
  }
 ],
 "metadata": {
  "kernelspec": {
   "display_name": "Python 3",
   "language": "python",
   "name": "python3"
  },
  "language_info": {
   "codemirror_mode": {
    "name": "ipython",
    "version": 3
   },
   "file_extension": ".py",
   "mimetype": "text/x-python",
   "name": "python",
   "nbconvert_exporter": "python",
   "pygments_lexer": "ipython3",
   "version": "3.7.3"
  }
 },
 "nbformat": 4,
 "nbformat_minor": 4
}
