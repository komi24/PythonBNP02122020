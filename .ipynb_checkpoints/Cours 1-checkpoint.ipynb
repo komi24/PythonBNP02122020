{
 "cells": [
  {
   "cell_type": "code",
   "execution_count": 3,
   "metadata": {},
   "outputs": [
    {
     "name": "stdout",
     "output_type": "stream",
     "text": [
      "hello world !\n"
     ]
    }
   ],
   "source": [
    "print(\"hello world !\")"
   ]
  },
  {
   "cell_type": "code",
   "execution_count": 2,
   "metadata": {},
   "outputs": [
    {
     "name": "stdout",
     "output_type": "stream",
     "text": [
      "9\n"
     ]
    }
   ],
   "source": [
    "a = 4\n",
    "b = 5\n",
    "print(a+b)"
   ]
  },
  {
   "cell_type": "code",
   "execution_count": 5,
   "metadata": {},
   "outputs": [
    {
     "data": {
      "text/plain": [
       "'\\n    Ceci est un commentaire\\n    sur plusieurs\\n    lignes\\n'"
      ]
     },
     "execution_count": 5,
     "metadata": {},
     "output_type": "execute_result"
    }
   ],
   "source": [
    "# Ceci est un commentaire sur une ligne\n",
    "\"\"\"\n",
    "    Ceci est un commentaire\n",
    "    sur plusieurs\n",
    "    lignes\n",
    "\"\"\""
   ]
  },
  {
   "cell_type": "markdown",
   "metadata": {},
   "source": [
    "# Titre\n",
    "## Sous titre 1\n",
    "### Sous titre 2\n",
    "\n",
    "* Item 1\n",
    "* Item 2\n",
    "\n",
    "paragraphe"
   ]
  },
  {
   "cell_type": "code",
   "execution_count": 6,
   "metadata": {},
   "outputs": [
    {
     "name": "stdout",
     "output_type": "stream",
     "text": [
      "17\n"
     ]
    }
   ],
   "source": [
    "ma_variable = 12\n",
    "\n",
    "print(ma_variable + 5)"
   ]
  },
  {
   "cell_type": "code",
   "execution_count": 12,
   "metadata": {},
   "outputs": [
    {
     "name": "stdout",
     "output_type": "stream",
     "text": [
      "<class 'int'>\n",
      "<class 'str'>\n"
     ]
    }
   ],
   "source": [
    "ma_variable = 12\n",
    "print(type(ma_variable))\n",
    "ma_variable = \"Bonjour\"\n",
    "print(type(ma_variable))"
   ]
  },
  {
   "cell_type": "code",
   "execution_count": 13,
   "metadata": {},
   "outputs": [
    {
     "data": {
      "text/plain": [
       "8"
      ]
     },
     "execution_count": 13,
     "metadata": {},
     "output_type": "execute_result"
    }
   ],
   "source": [
    "a = 2\n",
    "b = 6\n",
    "\n",
    "a + b"
   ]
  },
  {
   "cell_type": "code",
   "execution_count": 14,
   "metadata": {},
   "outputs": [
    {
     "ename": "TypeError",
     "evalue": "unsupported operand type(s) for +: 'int' and 'str'",
     "output_type": "error",
     "traceback": [
      "\u001b[1;31m---------------------------------------------------------------------------\u001b[0m",
      "\u001b[1;31mTypeError\u001b[0m                                 Traceback (most recent call last)",
      "\u001b[1;32m<ipython-input-14-bba8156ad73a>\u001b[0m in \u001b[0;36m<module>\u001b[1;34m\u001b[0m\n\u001b[0;32m      2\u001b[0m \u001b[0mb\u001b[0m \u001b[1;33m=\u001b[0m \u001b[1;34m\"bonjour\"\u001b[0m\u001b[1;33m\u001b[0m\u001b[1;33m\u001b[0m\u001b[0m\n\u001b[0;32m      3\u001b[0m \u001b[1;33m\u001b[0m\u001b[0m\n\u001b[1;32m----> 4\u001b[1;33m \u001b[0ma\u001b[0m \u001b[1;33m+\u001b[0m \u001b[0mb\u001b[0m\u001b[1;33m\u001b[0m\u001b[1;33m\u001b[0m\u001b[0m\n\u001b[0m",
      "\u001b[1;31mTypeError\u001b[0m: unsupported operand type(s) for +: 'int' and 'str'"
     ]
    }
   ],
   "source": [
    "a = 2\n",
    "b = \"bonjour\"\n",
    "\n",
    "a + b"
   ]
  },
  {
   "cell_type": "code",
   "execution_count": 16,
   "metadata": {},
   "outputs": [
    {
     "data": {
      "text/plain": [
       "'BonjourMathieu'"
      ]
     },
     "execution_count": 16,
     "metadata": {},
     "output_type": "execute_result"
    }
   ],
   "source": [
    "a = \"Bonjour\"\n",
    "b = \"Mathieu\"\n",
    "\n",
    "a + b"
   ]
  },
  {
   "cell_type": "code",
   "execution_count": 17,
   "metadata": {},
   "outputs": [
    {
     "data": {
      "text/plain": [
       "int"
      ]
     },
     "execution_count": 17,
     "metadata": {},
     "output_type": "execute_result"
    }
   ],
   "source": [
    "ma_chaine_de_caracteres = 12\n",
    "type(ma_chaine_de_caracteres)"
   ]
  },
  {
   "cell_type": "code",
   "execution_count": 18,
   "metadata": {},
   "outputs": [
    {
     "name": "stdout",
     "output_type": "stream",
     "text": [
      "8\n",
      "-4\n",
      "12\n",
      "0.3333333333333333\n",
      "0\n",
      "2\n"
     ]
    }
   ],
   "source": [
    "a = 2\n",
    "b = 6\n",
    "\n",
    "print(a + b)\n",
    "print(a - b)\n",
    "print(a * b)\n",
    "print(a / b)\n",
    "print(a // b)\n",
    "print(a % b)\n"
   ]
  },
  {
   "cell_type": "code",
   "execution_count": 24,
   "metadata": {},
   "outputs": [
    {
     "name": "stdout",
     "output_type": "stream",
     "text": [
      "(-9+0j)\n",
      "False\n"
     ]
    }
   ],
   "source": [
    "a = 2.0\n",
    "a = 2.\n",
    "a = 2.4\n",
    "b = 3j\n",
    "print(b ** 2)\n",
    "\n",
    "boolean = False\n",
    "boolean = True\n",
    "\n",
    "ma_variable = None # type null\n",
    "\n",
    "score = 20\n",
    "a_fini = True\n",
    "a_gagne = a_fini and score > 100\n",
    "print(a_gagne)"
   ]
  },
  {
   "cell_type": "code",
   "execution_count": 26,
   "metadata": {},
   "outputs": [
    {
     "name": "stdout",
     "output_type": "stream",
     "text": [
      "a\n",
      "20\n"
     ]
    }
   ],
   "source": [
    "a = 20\n",
    "print(\"a\")\n",
    "print(a)"
   ]
  },
  {
   "cell_type": "code",
   "execution_count": 34,
   "metadata": {},
   "outputs": [
    {
     "name": "stdout",
     "output_type": "stream",
     "text": [
      "6\n"
     ]
    }
   ],
   "source": [
    "a = 5\n",
    "a = a + 1\n",
    "print(a)"
   ]
  },
  {
   "cell_type": "code",
   "execution_count": 35,
   "metadata": {},
   "outputs": [
    {
     "name": "stdout",
     "output_type": "stream",
     "text": [
      "6\n"
     ]
    }
   ],
   "source": [
    "a = 5\n",
    "a += 1\n",
    "print(a)"
   ]
  },
  {
   "cell_type": "markdown",
   "metadata": {},
   "source": [
    "## Listes, Tuples, Dictionnaires"
   ]
  },
  {
   "cell_type": "code",
   "execution_count": 27,
   "metadata": {},
   "outputs": [
    {
     "name": "stdout",
     "output_type": "stream",
     "text": [
      "[18, 20, 16, 17]\n"
     ]
    }
   ],
   "source": [
    "liste_notes = [18,20,16,17]\n",
    "print(liste_notes)"
   ]
  },
  {
   "cell_type": "code",
   "execution_count": 28,
   "metadata": {},
   "outputs": [
    {
     "data": {
      "text/plain": [
       "18"
      ]
     },
     "execution_count": 28,
     "metadata": {},
     "output_type": "execute_result"
    }
   ],
   "source": [
    "liste_notes[0]"
   ]
  },
  {
   "cell_type": "code",
   "execution_count": 29,
   "metadata": {},
   "outputs": [
    {
     "data": {
      "text/plain": [
       "20"
      ]
     },
     "execution_count": 29,
     "metadata": {},
     "output_type": "execute_result"
    }
   ],
   "source": [
    "liste_notes[1]"
   ]
  },
  {
   "cell_type": "code",
   "execution_count": 30,
   "metadata": {},
   "outputs": [
    {
     "data": {
      "text/plain": [
       "4"
      ]
     },
     "execution_count": 30,
     "metadata": {},
     "output_type": "execute_result"
    }
   ],
   "source": [
    "len(liste_notes)"
   ]
  },
  {
   "cell_type": "code",
   "execution_count": 31,
   "metadata": {},
   "outputs": [
    {
     "data": {
      "text/plain": [
       "17"
      ]
     },
     "execution_count": 31,
     "metadata": {},
     "output_type": "execute_result"
    }
   ],
   "source": [
    "liste_notes[len(liste_notes)-1]"
   ]
  },
  {
   "cell_type": "code",
   "execution_count": 32,
   "metadata": {},
   "outputs": [
    {
     "data": {
      "text/plain": [
       "17"
      ]
     },
     "execution_count": 32,
     "metadata": {},
     "output_type": "execute_result"
    }
   ],
   "source": [
    "liste_notes[-1]"
   ]
  },
  {
   "cell_type": "code",
   "execution_count": 33,
   "metadata": {},
   "outputs": [
    {
     "data": {
      "text/plain": [
       "16"
      ]
     },
     "execution_count": 33,
     "metadata": {},
     "output_type": "execute_result"
    }
   ],
   "source": [
    "liste_notes[-2]"
   ]
  },
  {
   "cell_type": "code",
   "execution_count": 36,
   "metadata": {},
   "outputs": [
    {
     "data": {
      "text/plain": [
       "[18, 20, 16, 17, 5, 4, 7]"
      ]
     },
     "execution_count": 36,
     "metadata": {},
     "output_type": "execute_result"
    }
   ],
   "source": [
    "liste_notes + [5,4,7]"
   ]
  },
  {
   "cell_type": "code",
   "execution_count": 37,
   "metadata": {},
   "outputs": [
    {
     "data": {
      "text/plain": [
       "[18, 20, 16, 17]"
      ]
     },
     "execution_count": 37,
     "metadata": {},
     "output_type": "execute_result"
    }
   ],
   "source": [
    "liste_notes"
   ]
  },
  {
   "cell_type": "code",
   "execution_count": 38,
   "metadata": {},
   "outputs": [
    {
     "data": {
      "text/plain": [
       "[18, 20, 16, 17, 5, 4, 7]"
      ]
     },
     "execution_count": 38,
     "metadata": {},
     "output_type": "execute_result"
    }
   ],
   "source": [
    "liste_notes = liste_notes + [5,4,7]\n",
    "liste_notes"
   ]
  },
  {
   "cell_type": "code",
   "execution_count": 39,
   "metadata": {},
   "outputs": [
    {
     "name": "stdout",
     "output_type": "stream",
     "text": [
      "20\n",
      "4\n",
      "87\n"
     ]
    }
   ],
   "source": [
    "print(max(liste_notes))\n",
    "print(min(liste_notes))\n",
    "print(sum(liste_notes))\n"
   ]
  },
  {
   "cell_type": "code",
   "execution_count": 45,
   "metadata": {},
   "outputs": [
    {
     "name": "stdout",
     "output_type": "stream",
     "text": [
      "Ma moyenne est 12.428571428571429\n",
      "Ma moyenne est 12.428571428571429.\n"
     ]
    }
   ],
   "source": [
    "# faire la moyenne de liste_notes \n",
    "moyenne = sum(liste_notes) / len(liste_notes)\n",
    "\n",
    "print(\"Ma moyenne est \" + str(moyenne)) # str caster/modifier le type de notre variable en chaine\n",
    "print(f\"Ma moyenne est {moyenne}.\") # f-string pour afficher une variable dans une chaine"
   ]
  },
  {
   "cell_type": "code",
   "execution_count": 47,
   "metadata": {},
   "outputs": [
    {
     "data": {
      "text/plain": [
       "12"
      ]
     },
     "execution_count": 47,
     "metadata": {},
     "output_type": "execute_result"
    }
   ],
   "source": [
    "int(\"10\") + 2"
   ]
  },
  {
   "cell_type": "code",
   "execution_count": 48,
   "metadata": {},
   "outputs": [
    {
     "data": {
      "text/plain": [
       "'Mon age est 100 ans'"
      ]
     },
     "execution_count": 48,
     "metadata": {},
     "output_type": "execute_result"
    }
   ],
   "source": [
    "\"Mon age est \" + str(100) + \" ans\""
   ]
  },
  {
   "cell_type": "code",
   "execution_count": 49,
   "metadata": {},
   "outputs": [
    {
     "name": "stdout",
     "output_type": "stream",
     "text": [
      "Ma moyenne est 12.428571428571429.\n"
     ]
    }
   ],
   "source": [
    "moyenne = sum(liste_notes) / len(liste_notes)\n",
    "\n",
    "# le mieux est d'utiliser la f-string\n",
    "print(f\"Ma moyenne est {moyenne}.\") # f-string pour afficher une variable dans une chaine"
   ]
  },
  {
   "cell_type": "code",
   "execution_count": 50,
   "metadata": {},
   "outputs": [],
   "source": [
    "ma_liste = [12, True, [2,4], \"Bonjour\", 6, 8, 24]"
   ]
  },
  {
   "cell_type": "code",
   "execution_count": 54,
   "metadata": {},
   "outputs": [
    {
     "name": "stdout",
     "output_type": "stream",
     "text": [
      "12\n",
      "[2, 4]\n",
      "4\n",
      "8\n"
     ]
    }
   ],
   "source": [
    "# Afficher le premier élément\n",
    "print(ma_liste[0])\n",
    "# Afficher le troisième élément\n",
    "print(ma_liste[2])\n",
    "# Afficher le nombre 4 de la liste à l'intérieur de ma_liste\n",
    "print(ma_liste[2][1])\n",
    "# Afficher 8 (l'avant dernier élément)\n",
    "print(ma_liste[-2])\n"
   ]
  },
  {
   "cell_type": "code",
   "execution_count": 68,
   "metadata": {},
   "outputs": [
    {
     "name": "stdout",
     "output_type": "stream",
     "text": [
      "[12, True, [2, 4], 'Bonjour', 6, 8, 24]\n",
      "[12, True]\n",
      "[12, True]\n",
      "[[2, 4], 'Bonjour', 6, 8, 24]\n",
      "[12, True, [2, 4], 'Bonjour', 6, 8]\n",
      "[12, [2, 4], 6, 24]\n",
      "[24, 6, [2, 4], 12]\n",
      "[8, 6, 'Bonjour', [2, 4], True]\n"
     ]
    }
   ],
   "source": [
    "print(ma_liste)\n",
    "print(ma_liste[0:2]) # intervalle d'indice qu'on va récupérer (fin exclu)\n",
    "print(ma_liste[:2]) # zéro est le début par défaut\n",
    "print(ma_liste[2:])\n",
    "print(ma_liste[:-1])\n",
    "print(ma_liste[::2]) # un pas de 2 (prendre les éléments de deux en deux)\n",
    "print(ma_liste[::-2]) # intervalle d'indice qu'on va récupérer (fin exclu)\n",
    "# afficher de l'avant dernier au deuxieme inclu\n",
    "print(ma_liste[-2:0:-1])"
   ]
  },
  {
   "cell_type": "code",
   "execution_count": 69,
   "metadata": {},
   "outputs": [
    {
     "name": "stdout",
     "output_type": "stream",
     "text": [
      "[12, True, [2, 4], 'Bonjour', 6, 8, 24]\n"
     ]
    }
   ],
   "source": [
    "print(ma_liste)"
   ]
  },
  {
   "cell_type": "code",
   "execution_count": 74,
   "metadata": {},
   "outputs": [
    {
     "name": "stdout",
     "output_type": "stream",
     "text": [
      "[12, True, [2, 4], 'Bonjour', 6, 8, 24, 18]\n",
      "[12, True, [2, 4], 'Bonjour', 6, 8, 24, 18]\n",
      "[12, True, [2, 4], 'Bonjour', 6, 8, 24, 18, 30]\n"
     ]
    }
   ],
   "source": [
    "ma_liste = [12, True, [2,4], \"Bonjour\", 6, 8, 24]\n",
    "ma_liste.append(18)\n",
    "print(ma_liste)\n",
    "ma_liste + [26]\n",
    "print(ma_liste)\n",
    "ma_liste = ma_liste + [30]\n",
    "print(ma_liste)"
   ]
  },
  {
   "cell_type": "code",
   "execution_count": 75,
   "metadata": {},
   "outputs": [
    {
     "name": "stdout",
     "output_type": "stream",
     "text": [
      "[12, True, [2, 4], 'Bonjour', 6, 8, 24, [18, 42, 98]]\n"
     ]
    }
   ],
   "source": [
    "ma_liste = [12, True, [2,4], \"Bonjour\", 6, 8, 24]\n",
    "ma_liste.append([18,42,98])\n",
    "print(ma_liste)\n"
   ]
  },
  {
   "cell_type": "code",
   "execution_count": 76,
   "metadata": {},
   "outputs": [
    {
     "name": "stdout",
     "output_type": "stream",
     "text": [
      "[12, True, [2, 4], 'Bonjour', 6, 8, 24, 18, 42, 98]\n"
     ]
    }
   ],
   "source": [
    "ma_liste = [12, True, [2,4], \"Bonjour\", 6, 8, 24]\n",
    "ma_liste.extend([18,42,98])\n",
    "print(ma_liste)\n"
   ]
  },
  {
   "cell_type": "code",
   "execution_count": 87,
   "metadata": {},
   "outputs": [
    {
     "name": "stdout",
     "output_type": "stream",
     "text": [
      "[78, True, [2, 4], 'Bonjour', 6, 8, 24, 18, 42, 98]\n"
     ]
    },
    {
     "data": {
      "text/plain": [
       "0"
      ]
     },
     "execution_count": 87,
     "metadata": {},
     "output_type": "execute_result"
    }
   ],
   "source": [
    "print(ma_liste)\n",
    "\n",
    "ma_liste.index(78)"
   ]
  },
  {
   "cell_type": "code",
   "execution_count": 86,
   "metadata": {},
   "outputs": [
    {
     "name": "stdout",
     "output_type": "stream",
     "text": [
      "[78, True, [2, 4], 'Bonjour', 6, 8, 24, 18, 42, 98]\n"
     ]
    },
    {
     "data": {
      "text/plain": [
       "False"
      ]
     },
     "execution_count": 86,
     "metadata": {},
     "output_type": "execute_result"
    }
   ],
   "source": [
    "print(ma_liste)\n",
    "\n",
    "178 in ma_liste"
   ]
  },
  {
   "cell_type": "markdown",
   "metadata": {},
   "source": [
    "## Le cas des tuples"
   ]
  },
  {
   "cell_type": "code",
   "execution_count": 77,
   "metadata": {},
   "outputs": [
    {
     "name": "stdout",
     "output_type": "stream",
     "text": [
      "(16, 32, 89)\n"
     ]
    }
   ],
   "source": [
    "mon_tuple = (16, 32, 89)\n",
    "print(mon_tuple)"
   ]
  },
  {
   "cell_type": "code",
   "execution_count": 78,
   "metadata": {},
   "outputs": [
    {
     "ename": "TypeError",
     "evalue": "'tuple' object does not support item assignment",
     "output_type": "error",
     "traceback": [
      "\u001b[1;31m---------------------------------------------------------------------------\u001b[0m",
      "\u001b[1;31mTypeError\u001b[0m                                 Traceback (most recent call last)",
      "\u001b[1;32m<ipython-input-78-e2f873e5fdb5>\u001b[0m in \u001b[0;36m<module>\u001b[1;34m\u001b[0m\n\u001b[1;32m----> 1\u001b[1;33m \u001b[0mmon_tuple\u001b[0m\u001b[1;33m[\u001b[0m\u001b[1;36m0\u001b[0m\u001b[1;33m]\u001b[0m \u001b[1;33m=\u001b[0m \u001b[1;36m26\u001b[0m\u001b[1;33m\u001b[0m\u001b[1;33m\u001b[0m\u001b[0m\n\u001b[0m",
      "\u001b[1;31mTypeError\u001b[0m: 'tuple' object does not support item assignment"
     ]
    }
   ],
   "source": [
    "mon_tuple[0] = 26"
   ]
  },
  {
   "cell_type": "code",
   "execution_count": 79,
   "metadata": {},
   "outputs": [
    {
     "name": "stdout",
     "output_type": "stream",
     "text": [
      "[12, True, [2, 4], 'Bonjour', 6, 8, 24, 18, 42, 98]\n",
      "[78, True, [2, 4], 'Bonjour', 6, 8, 24, 18, 42, 98]\n"
     ]
    }
   ],
   "source": [
    "print(ma_liste)\n",
    "ma_liste[0] = 78\n",
    "print(ma_liste)"
   ]
  },
  {
   "cell_type": "markdown",
   "metadata": {},
   "source": [
    "## Dictionaires"
   ]
  },
  {
   "cell_type": "code",
   "execution_count": 81,
   "metadata": {},
   "outputs": [
    {
     "name": "stdout",
     "output_type": "stream",
     "text": [
      "Alizé\n",
      "Dupont\n"
     ]
    }
   ],
   "source": [
    "mon_dico = {\"prenom\": \"Alizé\", \"nom\": \"Dupont\"}\n",
    "\n",
    "print(mon_dico[\"prenom\"])\n",
    "print(mon_dico[\"nom\"])"
   ]
  },
  {
   "cell_type": "code",
   "execution_count": 83,
   "metadata": {},
   "outputs": [
    {
     "data": {
      "text/plain": [
       "'Alizé'"
      ]
     },
     "execution_count": 83,
     "metadata": {},
     "output_type": "execute_result"
    }
   ],
   "source": [
    "key = \"prenom\"\n",
    "\n",
    "mon_dico[key]"
   ]
  },
  {
   "cell_type": "code",
   "execution_count": 88,
   "metadata": {},
   "outputs": [
    {
     "data": {
      "text/plain": [
       "True"
      ]
     },
     "execution_count": 88,
     "metadata": {},
     "output_type": "execute_result"
    }
   ],
   "source": [
    "\"prenom\" in mon_dico"
   ]
  },
  {
   "cell_type": "code",
   "execution_count": 89,
   "metadata": {},
   "outputs": [
    {
     "data": {
      "text/plain": [
       "False"
      ]
     },
     "execution_count": 89,
     "metadata": {},
     "output_type": "execute_result"
    }
   ],
   "source": [
    "\"age\" in mon_dico"
   ]
  },
  {
   "cell_type": "markdown",
   "metadata": {},
   "source": [
    "# Structures conditionnelles"
   ]
  },
  {
   "cell_type": "code",
   "execution_count": 97,
   "metadata": {},
   "outputs": [
    {
     "name": "stdout",
     "output_type": "stream",
     "text": [
      "Mineur\n"
     ]
    }
   ],
   "source": [
    "age = 14\n",
    "\n",
    "# operateur de comparaison <, >, <=, >=, ==, !=\n",
    "# operateur boolean not, and, or\n",
    "if age > 18:\n",
    "    print(\"Majeur\")\n",
    "else:\n",
    "    print(\"Mineur\")"
   ]
  },
  {
   "cell_type": "code",
   "execution_count": 99,
   "metadata": {},
   "outputs": [
    {
     "name": "stdout",
     "output_type": "stream",
     "text": [
      "27 est impair\n"
     ]
    }
   ],
   "source": [
    "i = 27\n",
    "# afficher \"{i} est pair\" si i est pair sinon \"{i} est impair\"\n",
    "# % reste division euclidienne\n",
    "if i % 2 == 0:\n",
    "    print(f\"{i} est pair\")\n",
    "else:\n",
    "    print(f\"{i} est impair\")"
   ]
  },
  {
   "cell_type": "code",
   "execution_count": 102,
   "metadata": {},
   "outputs": [
    {
     "name": "stdout",
     "output_type": "stream",
     "text": [
      "passe ton permis\n",
      "exterieur\n"
     ]
    }
   ],
   "source": [
    "age = 18\n",
    "\n",
    "# operateur de comparaison <, >, <=, >=, ==, !=\n",
    "# operateur boolean not, and, or\n",
    "if age > 18:\n",
    "    print(\"Majeur\")\n",
    "    print(\"encore\")\n",
    "elif age == 18:\n",
    "    age += 1\n",
    "    print(\"passe ton permis\")\n",
    "else:\n",
    "    print(\"Mineur\")\n",
    "    print(\"interieur\")\n",
    "    \n",
    "print(\"exterieur\")"
   ]
  },
  {
   "cell_type": "code",
   "execution_count": 104,
   "metadata": {},
   "outputs": [
    {
     "name": "stdout",
     "output_type": "stream",
     "text": [
      "Majeur\n",
      "encore\n",
      "Mineur\n",
      "interieur\n",
      "exterieur\n"
     ]
    }
   ],
   "source": [
    "age = 24\n",
    "\n",
    "# operateur de comparaison <, >, <=, >=, ==, !=\n",
    "# operateur boolean not, and, or\n",
    "if age > 18:\n",
    "    print(\"Majeur\")\n",
    "    print(\"encore\")\n",
    "    \n",
    "if age == 18:\n",
    "    age += 1\n",
    "    print(\"passe ton permis\")\n",
    "else:\n",
    "    print(\"Mineur\")\n",
    "    print(\"interieur\")\n",
    "    \n",
    "print(\"exterieur\")"
   ]
  },
  {
   "cell_type": "code",
   "execution_count": 105,
   "metadata": {},
   "outputs": [
    {
     "name": "stdout",
     "output_type": "stream",
     "text": [
      "Majeur\n",
      "encore\n",
      "passe ton permis\n",
      "exterieur\n"
     ]
    }
   ],
   "source": [
    "age = 18\n",
    "\n",
    "# operateur de comparaison <, >, <=, >=, ==, !=\n",
    "# operateur boolean not, and, or\n",
    "if age >= 18:\n",
    "    print(\"Majeur\")\n",
    "    print(\"encore\")\n",
    "    \n",
    "    if age == 18:\n",
    "        age += 1\n",
    "        print(\"passe ton permis\")\n",
    "    else:\n",
    "        print(\"Mineur\")\n",
    "        print(\"interieur\")\n",
    "\n",
    "print(\"exterieur\")"
   ]
  },
  {
   "cell_type": "markdown",
   "metadata": {},
   "source": [
    "# Les boucles"
   ]
  },
  {
   "cell_type": "code",
   "execution_count": 106,
   "metadata": {},
   "outputs": [
    {
     "name": "stdout",
     "output_type": "stream",
     "text": [
      "mon age est 0\n",
      "intérieur boucle\n",
      "mon age est 1\n",
      "intérieur boucle\n",
      "mon age est 2\n",
      "intérieur boucle\n",
      "mon age est 3\n",
      "intérieur boucle\n",
      "mon age est 4\n",
      "intérieur boucle\n",
      "mon age est 5\n",
      "intérieur boucle\n",
      "mon age est 6\n",
      "intérieur boucle\n",
      "mon age est 7\n",
      "intérieur boucle\n",
      "mon age est 8\n",
      "intérieur boucle\n",
      "mon age est 9\n",
      "intérieur boucle\n",
      "mon age est 10\n",
      "intérieur boucle\n",
      "mon age est 11\n",
      "intérieur boucle\n",
      "mon age est 12\n",
      "intérieur boucle\n",
      "mon age est 13\n",
      "intérieur boucle\n",
      "mon age est 14\n",
      "intérieur boucle\n",
      "mon age est 15\n",
      "intérieur boucle\n",
      "mon age est 16\n",
      "intérieur boucle\n",
      "mon age est 17\n",
      "intérieur boucle\n",
      "mon age est 18\n",
      "intérieur boucle\n",
      "fin\n"
     ]
    }
   ],
   "source": [
    "age = 0\n",
    "est_mineur = True\n",
    "\n",
    "while est_mineur:\n",
    "    print(f\"mon age est {age}\")\n",
    "    age += 1\n",
    "    if age > 18:\n",
    "        est_mineur = False\n",
    "    else:\n",
    "        est_mineur = True\n",
    "    print(\"intérieur boucle\")\n",
    "print(\"fin\")"
   ]
  },
  {
   "cell_type": "code",
   "execution_count": 108,
   "metadata": {},
   "outputs": [
    {
     "name": "stdout",
     "output_type": "stream",
     "text": [
      "mon age est 0\n",
      "Je suis mineur\n",
      "mon age est 1\n",
      "Je suis mineur\n",
      "mon age est 2\n",
      "Je suis mineur\n",
      "mon age est 3\n",
      "Je suis mineur\n",
      "mon age est 4\n",
      "Je suis mineur\n",
      "mon age est 5\n",
      "Je suis mineur\n",
      "mon age est 6\n",
      "Je suis mineur\n",
      "mon age est 7\n",
      "Je suis mineur\n",
      "mon age est 8\n",
      "Je suis mineur\n",
      "mon age est 9\n",
      "Je suis mineur\n",
      "mon age est 10\n",
      "Je suis mineur\n",
      "mon age est 11\n",
      "Je suis mineur\n",
      "mon age est 12\n",
      "Je suis mineur\n",
      "mon age est 13\n",
      "Je suis mineur\n",
      "mon age est 14\n",
      "Je suis mineur\n",
      "mon age est 15\n",
      "Je suis mineur\n",
      "mon age est 16\n",
      "Je suis mineur\n",
      "mon age est 17\n",
      "Je suis mineur\n",
      "mon age est 18\n",
      "Je suis majeur\n",
      "fin\n"
     ]
    }
   ],
   "source": [
    "age = 0\n",
    "est_mineur = True\n",
    "\n",
    "while est_mineur:\n",
    "    print(f\"mon age est {age}\")\n",
    "    age += 1\n",
    "    est_mineur = age <= 18\n",
    "    message = \"Je suis mineur\" if age <= 18 else \"Je suis majeur\" # affectation conditionnelle\n",
    "    print(message)\n",
    "print(\"fin\")"
   ]
  },
  {
   "cell_type": "code",
   "execution_count": 107,
   "metadata": {},
   "outputs": [
    {
     "name": "stdout",
     "output_type": "stream",
     "text": [
      "mon age est 0\n",
      "intérieur boucle\n",
      "mon age est 1\n",
      "intérieur boucle\n",
      "mon age est 2\n",
      "intérieur boucle\n",
      "mon age est 3\n",
      "intérieur boucle\n",
      "mon age est 4\n",
      "intérieur boucle\n",
      "mon age est 5\n",
      "intérieur boucle\n",
      "mon age est 6\n",
      "intérieur boucle\n",
      "mon age est 7\n",
      "intérieur boucle\n",
      "mon age est 8\n",
      "intérieur boucle\n",
      "mon age est 9\n",
      "intérieur boucle\n",
      "mon age est 10\n",
      "intérieur boucle\n",
      "mon age est 11\n",
      "intérieur boucle\n",
      "mon age est 12\n",
      "intérieur boucle\n",
      "mon age est 13\n",
      "intérieur boucle\n",
      "mon age est 14\n",
      "intérieur boucle\n",
      "mon age est 15\n",
      "intérieur boucle\n",
      "mon age est 16\n",
      "intérieur boucle\n",
      "mon age est 17\n",
      "intérieur boucle\n",
      "mon age est 18\n",
      "intérieur boucle\n",
      "fin\n"
     ]
    }
   ],
   "source": [
    "age = 0\n",
    "\n",
    "while age <= 18:\n",
    "    print(f\"mon age est {age}\")\n",
    "    age += 1\n",
    "    print(\"intérieur boucle\")\n",
    "print(\"fin\")"
   ]
  },
  {
   "cell_type": "code",
   "execution_count": 109,
   "metadata": {},
   "outputs": [
    {
     "name": "stdout",
     "output_type": "stream",
     "text": [
      "12\n",
      "18\n",
      "25\n"
     ]
    }
   ],
   "source": [
    "for val in [12,18,25]:\n",
    "    print(val)"
   ]
  },
  {
   "cell_type": "code",
   "execution_count": 114,
   "metadata": {},
   "outputs": [
    {
     "name": "stdout",
     "output_type": "stream",
     "text": [
      "17\n",
      "74\n",
      "98\n",
      "50\n"
     ]
    }
   ],
   "source": [
    "ma_liste = [15,72,96,48]\n",
    "for valeur in ma_liste:\n",
    "    print(valeur + 2)\n"
   ]
  },
  {
   "cell_type": "code",
   "execution_count": 116,
   "metadata": {},
   "outputs": [
    {
     "name": "stdout",
     "output_type": "stream",
     "text": [
      "0\n",
      "1\n",
      "2\n",
      "3\n",
      "4\n",
      "5\n",
      "6\n",
      "7\n",
      "8\n",
      "9\n",
      "10\n",
      "11\n",
      "12\n",
      "13\n",
      "14\n",
      "15\n",
      "16\n",
      "17\n",
      "18\n",
      "19\n"
     ]
    }
   ],
   "source": [
    "for valeur in range(0,20):\n",
    "    print(valeur)\n"
   ]
  },
  {
   "cell_type": "code",
   "execution_count": 117,
   "metadata": {},
   "outputs": [
    {
     "name": "stdout",
     "output_type": "stream",
     "text": [
      "0\n",
      "1\n",
      "2\n",
      "3\n",
      "4\n",
      "5\n",
      "6\n",
      "7\n",
      "8\n",
      "9\n",
      "10\n",
      "11\n",
      "12\n",
      "13\n",
      "14\n",
      "15\n",
      "16\n",
      "17\n",
      "18\n",
      "19\n"
     ]
    }
   ],
   "source": [
    "for valeur in range(20):\n",
    "    print(valeur)\n"
   ]
  },
  {
   "cell_type": "code",
   "execution_count": 119,
   "metadata": {},
   "outputs": [
    {
     "data": {
      "text/plain": [
       "[0, 1, 2, 3, 4, 5, 6, 7, 8, 9, 10, 11, 12, 13, 14, 15, 16, 17, 18, 19]"
      ]
     },
     "execution_count": 119,
     "metadata": {},
     "output_type": "execute_result"
    }
   ],
   "source": [
    "# python3 : division \"/\" c'est une division float, python 2 c'est une division euclidienne\n",
    "# python3 : range(20) c'est un generateur, python 2 c'est une liste\n",
    "\n",
    "list(range(20))\n"
   ]
  },
  {
   "cell_type": "code",
   "execution_count": 122,
   "metadata": {},
   "outputs": [
    {
     "name": "stdout",
     "output_type": "stream",
     "text": [
      "tour: 0\n",
      "15\n",
      "135\n",
      "tour: 1\n",
      "72\n",
      "272\n",
      "tour: 2\n",
      "96\n",
      "796\n",
      "tour: 3\n",
      "48\n",
      "248\n"
     ]
    }
   ],
   "source": [
    "ma_liste = [15,72,96,48]\n",
    "ma_liste2 = [135,272,796,248]\n",
    "\n",
    "for i in range(len(ma_liste)):\n",
    "    print(f\"tour: {i}\")\n",
    "    print(ma_liste[i])\n",
    "    print(ma_liste2[i])\n"
   ]
  },
  {
   "cell_type": "code",
   "execution_count": 123,
   "metadata": {},
   "outputs": [
    {
     "name": "stdout",
     "output_type": "stream",
     "text": [
      "tour: 0\n",
      "15\n",
      "135\n",
      "tour: 1\n",
      "72\n",
      "272\n",
      "tour: 2\n",
      "96\n",
      "796\n",
      "tour: 3\n",
      "48\n",
      "248\n"
     ]
    }
   ],
   "source": [
    "ma_liste = [15,72,96,48]\n",
    "ma_liste2 = [135,272,796,248]\n",
    "\n",
    "for i, val in enumerate(ma_liste):\n",
    "    print(f\"tour: {i}\")\n",
    "    print(val)\n",
    "    print(ma_liste2[i])\n"
   ]
  },
  {
   "cell_type": "code",
   "execution_count": 125,
   "metadata": {},
   "outputs": [
    {
     "name": "stdout",
     "output_type": "stream",
     "text": [
      "15\n",
      "135\n",
      "72\n",
      "272\n",
      "96\n",
      "796\n",
      "48\n",
      "248\n"
     ]
    }
   ],
   "source": [
    "ma_liste = [15,72,96,48]\n",
    "ma_liste2 = [135,272,796,248, 267]\n",
    "\n",
    "for val1, val2 in zip(ma_liste, ma_liste2):\n",
    "    print(val1)\n",
    "    print(val2)\n"
   ]
  },
  {
   "cell_type": "code",
   "execution_count": 126,
   "metadata": {},
   "outputs": [
    {
     "name": "stdout",
     "output_type": "stream",
     "text": [
      "15\n",
      "135\n",
      "72\n",
      "272\n",
      "96\n",
      "796\n",
      "48\n",
      "248\n",
      "None\n",
      "267\n"
     ]
    }
   ],
   "source": [
    "from itertools import zip_longest\n",
    "ma_liste = [15,72,96,48]\n",
    "ma_liste2 = [135,272,796,248, 267]\n",
    "\n",
    "for val1, val2 in zip_longest(ma_liste, ma_liste2, fillvalue=None):\n",
    "    print(val1)\n",
    "    print(val2)\n"
   ]
  },
  {
   "cell_type": "code",
   "execution_count": 128,
   "metadata": {},
   "outputs": [
    {
     "name": "stdout",
     "output_type": "stream",
     "text": [
      "debut\n",
      "15\n",
      "135\n",
      "debut\n",
      "72\n",
      "272\n",
      "debut\n",
      "96\n",
      "796\n",
      "debut\n",
      "48\n",
      "248\n",
      "debut\n",
      "267\n"
     ]
    }
   ],
   "source": [
    "from itertools import zip_longest\n",
    "ma_liste = [15,72,96,48]\n",
    "ma_liste2 = [135,272,796,248, 267]\n",
    "\n",
    "for val1, val2 in zip_longest(ma_liste, ma_liste2, fillvalue=None):\n",
    "    print(\"debut\")\n",
    "    if val1 is not None:\n",
    "        print(val1)\n",
    "    if val2 is not None:\n",
    "        print(val2)\n",
    "\n",
    "    "
   ]
  },
  {
   "cell_type": "code",
   "execution_count": 129,
   "metadata": {},
   "outputs": [
    {
     "name": "stdout",
     "output_type": "stream",
     "text": [
      "15 x 135\n",
      "15 x 272\n",
      "15 x 796\n",
      "15 x 248\n",
      "15 x 267\n",
      "72 x 135\n",
      "72 x 272\n",
      "72 x 796\n",
      "72 x 248\n",
      "72 x 267\n",
      "96 x 135\n",
      "96 x 272\n",
      "96 x 796\n",
      "96 x 248\n",
      "96 x 267\n",
      "48 x 135\n",
      "48 x 272\n",
      "48 x 796\n",
      "48 x 248\n",
      "48 x 267\n"
     ]
    }
   ],
   "source": [
    "from itertools import product\n",
    "ma_liste = [15,72,96,48]\n",
    "ma_liste2 = [135,272,796,248, 267]\n",
    "\n",
    "for val1, val2 in product(ma_liste, ma_liste2):\n",
    "    print(f\"{val1} x {val2}\")\n"
   ]
  },
  {
   "cell_type": "markdown",
   "metadata": {},
   "source": [
    "# Fizz Buzz\n",
    "\n",
    "Pour tous les entiers de 0 à 100, afficher:\n",
    "* fizz si l'entier est divisible par 3\n",
    "* buzz si l'entier est divisible par 5\n",
    "* bazz si l'entier est divisible par 3 et 5\n",
    "* sinon on affiche l'entier\n",
    "\n",
    "En résultat on obtient :\n",
    "* bazz\n",
    "* 1\n",
    "* 2\n",
    "* fizz\n",
    "* 4\n",
    "* buzz\n",
    "..."
   ]
  },
  {
   "cell_type": "code",
   "execution_count": 131,
   "metadata": {},
   "outputs": [
    {
     "name": "stdout",
     "output_type": "stream",
     "text": [
      "bazz\n",
      "1\n",
      "2\n",
      "fizz\n",
      "4\n",
      "buzz\n",
      "fizz\n",
      "7\n",
      "8\n",
      "fizz\n",
      "buzz\n",
      "11\n",
      "fizz\n",
      "13\n",
      "14\n",
      "bazz\n",
      "16\n",
      "17\n",
      "fizz\n",
      "19\n",
      "buzz\n",
      "fizz\n",
      "22\n",
      "23\n",
      "fizz\n",
      "buzz\n",
      "26\n",
      "fizz\n",
      "28\n",
      "29\n",
      "bazz\n",
      "31\n",
      "32\n",
      "fizz\n",
      "34\n",
      "buzz\n",
      "fizz\n",
      "37\n",
      "38\n",
      "fizz\n",
      "buzz\n",
      "41\n",
      "fizz\n",
      "43\n",
      "44\n",
      "bazz\n",
      "46\n",
      "47\n",
      "fizz\n",
      "49\n",
      "buzz\n",
      "fizz\n",
      "52\n",
      "53\n",
      "fizz\n",
      "buzz\n",
      "56\n",
      "fizz\n",
      "58\n",
      "59\n",
      "bazz\n",
      "61\n",
      "62\n",
      "fizz\n",
      "64\n",
      "buzz\n",
      "fizz\n",
      "67\n",
      "68\n",
      "fizz\n",
      "buzz\n",
      "71\n",
      "fizz\n",
      "73\n",
      "74\n",
      "bazz\n",
      "76\n",
      "77\n",
      "fizz\n",
      "79\n",
      "buzz\n",
      "fizz\n",
      "82\n",
      "83\n",
      "fizz\n",
      "buzz\n",
      "86\n",
      "fizz\n",
      "88\n",
      "89\n",
      "bazz\n",
      "91\n",
      "92\n",
      "fizz\n",
      "94\n",
      "buzz\n",
      "fizz\n",
      "97\n",
      "98\n",
      "fizz\n",
      "buzz\n"
     ]
    }
   ],
   "source": [
    "for i in range(101):\n",
    "    if i % 15 == 0:\n",
    "        print(\"bazz\")\n",
    "    elif i % 3 == 0:\n",
    "        print(\"fizz\")\n",
    "    elif i % 5 == 0:\n",
    "        print(\"buzz\")\n",
    "    else:\n",
    "        print(i)"
   ]
  },
  {
   "cell_type": "markdown",
   "metadata": {},
   "source": [
    "# Exo Nombre mystère\n",
    "\n",
    "### On doit deviner le nombre mystère\n",
    "\n",
    "Ecrire un algo qui génére un nombre aleatoire (avec randint). L'ordinateur demandera à l'utilisateur de faire une proposition. L'odrinateur répondra trop petit, trop grand ou gagné à l'utilisateur. \n",
    "\n",
    "L'utilisateur peut faire de nouvelles proposition tant qu'il n'a pas gagné\n",
    "\n",
    "\n",
    "#### Version 2\n",
    "\n",
    "On fait l'inverse. On pense à un nombre aléatoire et l'ordinateur doit le deviner. Il fait des propositions et nous on répond\n",
    "P pour trop petit, G pour trop grand et E pour égal.\n"
   ]
  },
  {
   "cell_type": "code",
   "execution_count": 144,
   "metadata": {},
   "outputs": [
    {
     "name": "stdout",
     "output_type": "stream",
     "text": [
      "Devine le nombre mystère : \n",
      "50\n",
      "Trop petit\n",
      "Devine le nombre mystère : \n",
      "75\n",
      "Trop petit\n",
      "Devine le nombre mystère : \n",
      "83\n",
      "Trop grand\n",
      "Devine le nombre mystère : \n",
      "80\n",
      "Trop grand\n",
      "Devine le nombre mystère : \n",
      "78\n",
      "Trop grand\n",
      "Devine le nombre mystère : \n",
      "76\n",
      "Trop petit\n",
      "Devine le nombre mystère : \n",
      "77\n",
      "Gagné\n"
     ]
    }
   ],
   "source": [
    "from random import randint\n",
    "\n",
    "secret = randint(0,100)\n",
    "\n",
    "trouve = False\n",
    "\n",
    "while not trouve:\n",
    "    proposition = int(input(\"Devine le nombre mystère : \\n\"))\n",
    "    if proposition > secret:\n",
    "        print(\"Trop grand\")\n",
    "    elif proposition < secret:\n",
    "        print(\"Trop petit\")\n",
    "    else:\n",
    "        trouve = True\n",
    "        print(\"Gagné\")"
   ]
  },
  {
   "cell_type": "code",
   "execution_count": 145,
   "metadata": {},
   "outputs": [
    {
     "name": "stdout",
     "output_type": "stream",
     "text": [
      "Devine le nombre mystère : \n",
      "50\n",
      "Trop petit\n",
      "Devine le nombre mystère : \n",
      "75\n",
      "Trop grand\n",
      "Devine le nombre mystère : \n",
      "62\n",
      "Trop grand\n",
      "Devine le nombre mystère : \n",
      "57\n",
      "Trop grand\n",
      "Devine le nombre mystère : \n",
      "54\n",
      "Trop petit\n",
      "Devine le nombre mystère : \n",
      "56\n",
      "Gagné\n"
     ]
    }
   ],
   "source": [
    "from random import randint\n",
    "\n",
    "secret = randint(0,100)\n",
    "\n",
    "proposition = None\n",
    "\n",
    "while proposition != secret:\n",
    "    proposition = int(input(\"Devine le nombre mystère : \\n\"))\n",
    "    if proposition > secret:\n",
    "        print(\"Trop grand\")\n",
    "    elif proposition < secret:\n",
    "        print(\"Trop petit\")\n",
    "print(\"Gagné\")"
   ]
  },
  {
   "cell_type": "code",
   "execution_count": 149,
   "metadata": {},
   "outputs": [
    {
     "name": "stdout",
     "output_type": "stream",
     "text": [
      "Est-ce que votre nombre mystère est 50 ? G/P/EG\n",
      "Est-ce que votre nombre mystère est 25 ? G/P/EP\n",
      "Est-ce que votre nombre mystère est 37 ? G/P/EG\n",
      "Est-ce que votre nombre mystère est 31 ? G/P/EG\n",
      "Est-ce que votre nombre mystère est 28 ? G/P/EE\n",
      "Gagné !\n"
     ]
    }
   ],
   "source": [
    "borne_min = 0\n",
    "borne_max = 101\n",
    "proposition = (borne_min + borne_max) // 2 \n",
    "reponse = None\n",
    "\n",
    "while reponse != \"E\":\n",
    "    reponse = input(f\"Est-ce que votre nombre mystère est {proposition} ? G/P/E\")\n",
    "    if reponse == \"G\":\n",
    "        # trop grand\n",
    "        borne_max = proposition\n",
    "    elif reponse == \"P\":\n",
    "        # trop petit\n",
    "        borne_min = proposition\n",
    "    proposition = (borne_min + borne_max) // 2\n",
    "\n",
    "print(\"Gagné !\")"
   ]
  },
  {
   "cell_type": "code",
   "execution_count": 143,
   "metadata": {},
   "outputs": [
    {
     "name": "stdout",
     "output_type": "stream",
     "text": [
      "Quel est votre nom ?Morgane\n",
      "Morgane\n",
      "Quel est votre age ?38\n",
      "39\n"
     ]
    }
   ],
   "source": [
    "nom = input(\"Quel est votre nom ?\")\n",
    "print(nom)\n",
    "\n",
    "age = int(input(\"Quel est votre age ?\"))\n",
    "print(age + 1)"
   ]
  },
  {
   "cell_type": "markdown",
   "metadata": {},
   "source": [
    "## Function"
   ]
  },
  {
   "cell_type": "code",
   "execution_count": 147,
   "metadata": {},
   "outputs": [
    {
     "name": "stdout",
     "output_type": "stream",
     "text": [
      "4\n",
      "8\n",
      "12\n"
     ]
    }
   ],
   "source": [
    "def ma_fonction(a,b):\n",
    "    print(a)\n",
    "    print(b)\n",
    "    return a + b\n",
    "    \n",
    "res = ma_fonction(4,8)\n",
    "print(res)"
   ]
  },
  {
   "cell_type": "code",
   "execution_count": null,
   "metadata": {},
   "outputs": [],
   "source": [
    "arr1 = [2,5,9]\n",
    "arr2= [3,4,10]\n",
    "fusion(arr1, arr2)\n",
    "# => [2,3,4,5,9,10]"
   ]
  },
  {
   "cell_type": "code",
   "execution_count": null,
   "metadata": {},
   "outputs": [],
   "source": [
    "def fusion(arr1, arr2):\n",
    "    \"\"\"\n",
    "    Prend deux listes d'entiers triées\n",
    "    renvoie la fusion de ses deux listes\n",
    "    \"\"\"\n",
    "    return # "
   ]
  },
  {
   "cell_type": "code",
   "execution_count": null,
   "metadata": {},
   "outputs": [],
   "source": [
    "def tri_fusion(arr):\n",
    "    \"\"\"\n",
    "        Prend une liste d'entier en paramètre\n",
    "        et renvoie cette liste triée\n",
    "    \"\"\"\n",
    "    if len(arr) < 2:\n",
    "        # facile\n",
    "        pass\n",
    "    elif len(arr) == 2:\n",
    "        # échange les éléments si nécessaires\n",
    "        pass\n",
    "    else:\n",
    "        arr1 = # premiere moitie de arr\n",
    "        arr2 = # deuxieme moitie de arr\n",
    "        # rappeler notre fonction sur les deux sous-liste\n",
    "        return fusion(res1, res2)# des deux sous-listes triées"
   ]
  }
 ],
 "metadata": {
  "kernelspec": {
   "display_name": "Python 3",
   "language": "python",
   "name": "python3"
  },
  "language_info": {
   "codemirror_mode": {
    "name": "ipython",
    "version": 3
   },
   "file_extension": ".py",
   "mimetype": "text/x-python",
   "name": "python",
   "nbconvert_exporter": "python",
   "pygments_lexer": "ipython3",
   "version": "3.7.3"
  }
 },
 "nbformat": 4,
 "nbformat_minor": 4
}
