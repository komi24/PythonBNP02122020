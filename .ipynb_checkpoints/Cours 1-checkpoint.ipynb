{
 "cells": [
  {
   "cell_type": "code",
   "execution_count": 3,
   "metadata": {},
   "outputs": [
    {
     "name": "stdout",
     "output_type": "stream",
     "text": [
      "hello world !\n"
     ]
    }
   ],
   "source": [
    "print(\"hello world !\")"
   ]
  },
  {
   "cell_type": "code",
   "execution_count": 2,
   "metadata": {},
   "outputs": [
    {
     "name": "stdout",
     "output_type": "stream",
     "text": [
      "9\n"
     ]
    }
   ],
   "source": [
    "a = 4\n",
    "b = 5\n",
    "print(a+b)"
   ]
  },
  {
   "cell_type": "code",
   "execution_count": 5,
   "metadata": {},
   "outputs": [
    {
     "data": {
      "text/plain": [
       "'\\n    Ceci est un commentaire\\n    sur plusieurs\\n    lignes\\n'"
      ]
     },
     "execution_count": 5,
     "metadata": {},
     "output_type": "execute_result"
    }
   ],
   "source": [
    "# Ceci est un commentaire sur une ligne\n",
    "\"\"\"\n",
    "    Ceci est un commentaire\n",
    "    sur plusieurs\n",
    "    lignes\n",
    "\"\"\""
   ]
  },
  {
   "cell_type": "markdown",
   "metadata": {},
   "source": [
    "# Titre\n",
    "## Sous titre 1\n",
    "### Sous titre 2\n",
    "\n",
    "* Item 1\n",
    "* Item 2\n",
    "\n",
    "paragraphe"
   ]
  },
  {
   "cell_type": "code",
   "execution_count": 6,
   "metadata": {},
   "outputs": [
    {
     "name": "stdout",
     "output_type": "stream",
     "text": [
      "17\n"
     ]
    }
   ],
   "source": [
    "ma_variable = 12\n",
    "\n",
    "print(ma_variable + 5)"
   ]
  },
  {
   "cell_type": "code",
   "execution_count": 12,
   "metadata": {},
   "outputs": [
    {
     "name": "stdout",
     "output_type": "stream",
     "text": [
      "<class 'int'>\n",
      "<class 'str'>\n"
     ]
    }
   ],
   "source": [
    "ma_variable = 12\n",
    "print(type(ma_variable))\n",
    "ma_variable = \"Bonjour\"\n",
    "print(type(ma_variable))"
   ]
  },
  {
   "cell_type": "code",
   "execution_count": 13,
   "metadata": {},
   "outputs": [
    {
     "data": {
      "text/plain": [
       "8"
      ]
     },
     "execution_count": 13,
     "metadata": {},
     "output_type": "execute_result"
    }
   ],
   "source": [
    "a = 2\n",
    "b = 6\n",
    "\n",
    "a + b"
   ]
  },
  {
   "cell_type": "code",
   "execution_count": 14,
   "metadata": {},
   "outputs": [
    {
     "ename": "TypeError",
     "evalue": "unsupported operand type(s) for +: 'int' and 'str'",
     "output_type": "error",
     "traceback": [
      "\u001b[1;31m---------------------------------------------------------------------------\u001b[0m",
      "\u001b[1;31mTypeError\u001b[0m                                 Traceback (most recent call last)",
      "\u001b[1;32m<ipython-input-14-bba8156ad73a>\u001b[0m in \u001b[0;36m<module>\u001b[1;34m\u001b[0m\n\u001b[0;32m      2\u001b[0m \u001b[0mb\u001b[0m \u001b[1;33m=\u001b[0m \u001b[1;34m\"bonjour\"\u001b[0m\u001b[1;33m\u001b[0m\u001b[1;33m\u001b[0m\u001b[0m\n\u001b[0;32m      3\u001b[0m \u001b[1;33m\u001b[0m\u001b[0m\n\u001b[1;32m----> 4\u001b[1;33m \u001b[0ma\u001b[0m \u001b[1;33m+\u001b[0m \u001b[0mb\u001b[0m\u001b[1;33m\u001b[0m\u001b[1;33m\u001b[0m\u001b[0m\n\u001b[0m",
      "\u001b[1;31mTypeError\u001b[0m: unsupported operand type(s) for +: 'int' and 'str'"
     ]
    }
   ],
   "source": [
    "a = 2\n",
    "b = \"bonjour\"\n",
    "\n",
    "a + b"
   ]
  },
  {
   "cell_type": "code",
   "execution_count": 16,
   "metadata": {},
   "outputs": [
    {
     "data": {
      "text/plain": [
       "'BonjourMathieu'"
      ]
     },
     "execution_count": 16,
     "metadata": {},
     "output_type": "execute_result"
    }
   ],
   "source": [
    "a = \"Bonjour\"\n",
    "b = \"Mathieu\"\n",
    "\n",
    "a + b"
   ]
  },
  {
   "cell_type": "code",
   "execution_count": 17,
   "metadata": {},
   "outputs": [
    {
     "data": {
      "text/plain": [
       "int"
      ]
     },
     "execution_count": 17,
     "metadata": {},
     "output_type": "execute_result"
    }
   ],
   "source": [
    "ma_chaine_de_caracteres = 12\n",
    "type(ma_chaine_de_caracteres)"
   ]
  },
  {
   "cell_type": "code",
   "execution_count": 18,
   "metadata": {},
   "outputs": [
    {
     "name": "stdout",
     "output_type": "stream",
     "text": [
      "8\n",
      "-4\n",
      "12\n",
      "0.3333333333333333\n",
      "0\n",
      "2\n"
     ]
    }
   ],
   "source": [
    "a = 2\n",
    "b = 6\n",
    "\n",
    "print(a + b)\n",
    "print(a - b)\n",
    "print(a * b)\n",
    "print(a / b)\n",
    "print(a // b)\n",
    "print(a % b)\n"
   ]
  },
  {
   "cell_type": "code",
   "execution_count": 24,
   "metadata": {},
   "outputs": [
    {
     "name": "stdout",
     "output_type": "stream",
     "text": [
      "(-9+0j)\n",
      "False\n"
     ]
    }
   ],
   "source": [
    "a = 2.0\n",
    "a = 2.\n",
    "a = 2.4\n",
    "b = 3j\n",
    "print(b ** 2)\n",
    "\n",
    "boolean = False\n",
    "boolean = True\n",
    "\n",
    "ma_variable = None # type null\n",
    "\n",
    "score = 20\n",
    "a_fini = True\n",
    "a_gagne = a_fini and score > 100\n",
    "print(a_gagne)"
   ]
  },
  {
   "cell_type": "code",
   "execution_count": 26,
   "metadata": {},
   "outputs": [
    {
     "name": "stdout",
     "output_type": "stream",
     "text": [
      "a\n",
      "20\n"
     ]
    }
   ],
   "source": [
    "a = 20\n",
    "print(\"a\")\n",
    "print(a)"
   ]
  },
  {
   "cell_type": "code",
   "execution_count": 34,
   "metadata": {},
   "outputs": [
    {
     "name": "stdout",
     "output_type": "stream",
     "text": [
      "6\n"
     ]
    }
   ],
   "source": [
    "a = 5\n",
    "a = a + 1\n",
    "print(a)"
   ]
  },
  {
   "cell_type": "code",
   "execution_count": 35,
   "metadata": {},
   "outputs": [
    {
     "name": "stdout",
     "output_type": "stream",
     "text": [
      "6\n"
     ]
    }
   ],
   "source": [
    "a = 5\n",
    "a += 1\n",
    "print(a)"
   ]
  },
  {
   "cell_type": "markdown",
   "metadata": {},
   "source": [
    "## Listes, Tuples, Dictionnaires"
   ]
  },
  {
   "cell_type": "code",
   "execution_count": 27,
   "metadata": {},
   "outputs": [
    {
     "name": "stdout",
     "output_type": "stream",
     "text": [
      "[18, 20, 16, 17]\n"
     ]
    }
   ],
   "source": [
    "liste_notes = [18,20,16,17]\n",
    "print(liste_notes)"
   ]
  },
  {
   "cell_type": "code",
   "execution_count": 28,
   "metadata": {},
   "outputs": [
    {
     "data": {
      "text/plain": [
       "18"
      ]
     },
     "execution_count": 28,
     "metadata": {},
     "output_type": "execute_result"
    }
   ],
   "source": [
    "liste_notes[0]"
   ]
  },
  {
   "cell_type": "code",
   "execution_count": 29,
   "metadata": {},
   "outputs": [
    {
     "data": {
      "text/plain": [
       "20"
      ]
     },
     "execution_count": 29,
     "metadata": {},
     "output_type": "execute_result"
    }
   ],
   "source": [
    "liste_notes[1]"
   ]
  },
  {
   "cell_type": "code",
   "execution_count": 30,
   "metadata": {},
   "outputs": [
    {
     "data": {
      "text/plain": [
       "4"
      ]
     },
     "execution_count": 30,
     "metadata": {},
     "output_type": "execute_result"
    }
   ],
   "source": [
    "len(liste_notes)"
   ]
  },
  {
   "cell_type": "code",
   "execution_count": 31,
   "metadata": {},
   "outputs": [
    {
     "data": {
      "text/plain": [
       "17"
      ]
     },
     "execution_count": 31,
     "metadata": {},
     "output_type": "execute_result"
    }
   ],
   "source": [
    "liste_notes[len(liste_notes)-1]"
   ]
  },
  {
   "cell_type": "code",
   "execution_count": 32,
   "metadata": {},
   "outputs": [
    {
     "data": {
      "text/plain": [
       "17"
      ]
     },
     "execution_count": 32,
     "metadata": {},
     "output_type": "execute_result"
    }
   ],
   "source": [
    "liste_notes[-1]"
   ]
  },
  {
   "cell_type": "code",
   "execution_count": 33,
   "metadata": {},
   "outputs": [
    {
     "data": {
      "text/plain": [
       "16"
      ]
     },
     "execution_count": 33,
     "metadata": {},
     "output_type": "execute_result"
    }
   ],
   "source": [
    "liste_notes[-2]"
   ]
  },
  {
   "cell_type": "code",
   "execution_count": 36,
   "metadata": {},
   "outputs": [
    {
     "data": {
      "text/plain": [
       "[18, 20, 16, 17, 5, 4, 7]"
      ]
     },
     "execution_count": 36,
     "metadata": {},
     "output_type": "execute_result"
    }
   ],
   "source": [
    "liste_notes + [5,4,7]"
   ]
  },
  {
   "cell_type": "code",
   "execution_count": 37,
   "metadata": {},
   "outputs": [
    {
     "data": {
      "text/plain": [
       "[18, 20, 16, 17]"
      ]
     },
     "execution_count": 37,
     "metadata": {},
     "output_type": "execute_result"
    }
   ],
   "source": [
    "liste_notes"
   ]
  },
  {
   "cell_type": "code",
   "execution_count": 38,
   "metadata": {},
   "outputs": [
    {
     "data": {
      "text/plain": [
       "[18, 20, 16, 17, 5, 4, 7]"
      ]
     },
     "execution_count": 38,
     "metadata": {},
     "output_type": "execute_result"
    }
   ],
   "source": [
    "liste_notes = liste_notes + [5,4,7]\n",
    "liste_notes"
   ]
  },
  {
   "cell_type": "code",
   "execution_count": 39,
   "metadata": {},
   "outputs": [
    {
     "name": "stdout",
     "output_type": "stream",
     "text": [
      "20\n",
      "4\n",
      "87\n"
     ]
    }
   ],
   "source": [
    "print(max(liste_notes))\n",
    "print(min(liste_notes))\n",
    "print(sum(liste_notes))\n"
   ]
  },
  {
   "cell_type": "code",
   "execution_count": 45,
   "metadata": {},
   "outputs": [
    {
     "name": "stdout",
     "output_type": "stream",
     "text": [
      "Ma moyenne est 12.428571428571429\n",
      "Ma moyenne est 12.428571428571429.\n"
     ]
    }
   ],
   "source": [
    "# faire la moyenne de liste_notes \n",
    "moyenne = sum(liste_notes) / len(liste_notes)\n",
    "\n",
    "print(\"Ma moyenne est \" + str(moyenne)) # str caster/modifier le type de notre variable en chaine\n",
    "print(f\"Ma moyenne est {moyenne}.\") # f-string pour afficher une variable dans une chaine"
   ]
  },
  {
   "cell_type": "code",
   "execution_count": 47,
   "metadata": {},
   "outputs": [
    {
     "data": {
      "text/plain": [
       "12"
      ]
     },
     "execution_count": 47,
     "metadata": {},
     "output_type": "execute_result"
    }
   ],
   "source": [
    "int(\"10\") + 2"
   ]
  },
  {
   "cell_type": "code",
   "execution_count": 48,
   "metadata": {},
   "outputs": [
    {
     "data": {
      "text/plain": [
       "'Mon age est 100 ans'"
      ]
     },
     "execution_count": 48,
     "metadata": {},
     "output_type": "execute_result"
    }
   ],
   "source": [
    "\"Mon age est \" + str(100) + \" ans\""
   ]
  },
  {
   "cell_type": "code",
   "execution_count": 49,
   "metadata": {},
   "outputs": [
    {
     "name": "stdout",
     "output_type": "stream",
     "text": [
      "Ma moyenne est 12.428571428571429.\n"
     ]
    }
   ],
   "source": [
    "moyenne = sum(liste_notes) / len(liste_notes)\n",
    "\n",
    "# le mieux est d'utiliser la f-string\n",
    "print(f\"Ma moyenne est {moyenne}.\") # f-string pour afficher une variable dans une chaine"
   ]
  },
  {
   "cell_type": "code",
   "execution_count": 50,
   "metadata": {},
   "outputs": [],
   "source": [
    "ma_liste = [12, True, [2,4], \"Bonjour\", 6, 8, 24]"
   ]
  },
  {
   "cell_type": "code",
   "execution_count": 54,
   "metadata": {},
   "outputs": [
    {
     "name": "stdout",
     "output_type": "stream",
     "text": [
      "12\n",
      "[2, 4]\n",
      "4\n",
      "8\n"
     ]
    }
   ],
   "source": [
    "# Afficher le premier élément\n",
    "print(ma_liste[0])\n",
    "# Afficher le troisième élément\n",
    "print(ma_liste[2])\n",
    "# Afficher le nombre 4 de la liste à l'intérieur de ma_liste\n",
    "print(ma_liste[2][1])\n",
    "# Afficher 8 (l'avant dernier élément)\n",
    "print(ma_liste[-2])\n"
   ]
  },
  {
   "cell_type": "code",
   "execution_count": 68,
   "metadata": {},
   "outputs": [
    {
     "name": "stdout",
     "output_type": "stream",
     "text": [
      "[12, True, [2, 4], 'Bonjour', 6, 8, 24]\n",
      "[12, True]\n",
      "[12, True]\n",
      "[[2, 4], 'Bonjour', 6, 8, 24]\n",
      "[12, True, [2, 4], 'Bonjour', 6, 8]\n",
      "[12, [2, 4], 6, 24]\n",
      "[24, 6, [2, 4], 12]\n",
      "[8, 6, 'Bonjour', [2, 4], True]\n"
     ]
    }
   ],
   "source": [
    "print(ma_liste)\n",
    "print(ma_liste[0:2]) # intervalle d'indice qu'on va récupérer (fin exclu)\n",
    "print(ma_liste[:2]) # zéro est le début par défaut\n",
    "print(ma_liste[2:])\n",
    "print(ma_liste[:-1])\n",
    "print(ma_liste[::2]) # un pas de 2 (prendre les éléments de deux en deux)\n",
    "print(ma_liste[::-2]) # intervalle d'indice qu'on va récupérer (fin exclu)\n",
    "# afficher de l'avant dernier au deuxieme inclu\n",
    "print(ma_liste[-2:0:-1])"
   ]
  },
  {
   "cell_type": "code",
   "execution_count": 69,
   "metadata": {},
   "outputs": [
    {
     "name": "stdout",
     "output_type": "stream",
     "text": [
      "[12, True, [2, 4], 'Bonjour', 6, 8, 24]\n"
     ]
    }
   ],
   "source": [
    "print(ma_liste)"
   ]
  },
  {
   "cell_type": "code",
   "execution_count": 74,
   "metadata": {},
   "outputs": [
    {
     "name": "stdout",
     "output_type": "stream",
     "text": [
      "[12, True, [2, 4], 'Bonjour', 6, 8, 24, 18]\n",
      "[12, True, [2, 4], 'Bonjour', 6, 8, 24, 18]\n",
      "[12, True, [2, 4], 'Bonjour', 6, 8, 24, 18, 30]\n"
     ]
    }
   ],
   "source": [
    "ma_liste = [12, True, [2,4], \"Bonjour\", 6, 8, 24]\n",
    "ma_liste.append(18)\n",
    "print(ma_liste)\n",
    "ma_liste + [26]\n",
    "print(ma_liste)\n",
    "ma_liste = ma_liste + [30]\n",
    "print(ma_liste)"
   ]
  },
  {
   "cell_type": "code",
   "execution_count": 75,
   "metadata": {},
   "outputs": [
    {
     "name": "stdout",
     "output_type": "stream",
     "text": [
      "[12, True, [2, 4], 'Bonjour', 6, 8, 24, [18, 42, 98]]\n"
     ]
    }
   ],
   "source": [
    "ma_liste = [12, True, [2,4], \"Bonjour\", 6, 8, 24]\n",
    "ma_liste.append([18,42,98])\n",
    "print(ma_liste)\n"
   ]
  },
  {
   "cell_type": "code",
   "execution_count": 76,
   "metadata": {},
   "outputs": [
    {
     "name": "stdout",
     "output_type": "stream",
     "text": [
      "[12, True, [2, 4], 'Bonjour', 6, 8, 24, 18, 42, 98]\n"
     ]
    }
   ],
   "source": [
    "ma_liste = [12, True, [2,4], \"Bonjour\", 6, 8, 24]\n",
    "ma_liste.extend([18,42,98])\n",
    "print(ma_liste)\n"
   ]
  },
  {
   "cell_type": "code",
   "execution_count": 87,
   "metadata": {},
   "outputs": [
    {
     "name": "stdout",
     "output_type": "stream",
     "text": [
      "[78, True, [2, 4], 'Bonjour', 6, 8, 24, 18, 42, 98]\n"
     ]
    },
    {
     "data": {
      "text/plain": [
       "0"
      ]
     },
     "execution_count": 87,
     "metadata": {},
     "output_type": "execute_result"
    }
   ],
   "source": [
    "print(ma_liste)\n",
    "\n",
    "ma_liste.index(78)"
   ]
  },
  {
   "cell_type": "code",
   "execution_count": 86,
   "metadata": {},
   "outputs": [
    {
     "name": "stdout",
     "output_type": "stream",
     "text": [
      "[78, True, [2, 4], 'Bonjour', 6, 8, 24, 18, 42, 98]\n"
     ]
    },
    {
     "data": {
      "text/plain": [
       "False"
      ]
     },
     "execution_count": 86,
     "metadata": {},
     "output_type": "execute_result"
    }
   ],
   "source": [
    "print(ma_liste)\n",
    "\n",
    "178 in ma_liste"
   ]
  },
  {
   "cell_type": "markdown",
   "metadata": {},
   "source": [
    "## Le cas des tuples"
   ]
  },
  {
   "cell_type": "code",
   "execution_count": 77,
   "metadata": {},
   "outputs": [
    {
     "name": "stdout",
     "output_type": "stream",
     "text": [
      "(16, 32, 89)\n"
     ]
    }
   ],
   "source": [
    "mon_tuple = (16, 32, 89)\n",
    "print(mon_tuple)"
   ]
  },
  {
   "cell_type": "code",
   "execution_count": 78,
   "metadata": {},
   "outputs": [
    {
     "ename": "TypeError",
     "evalue": "'tuple' object does not support item assignment",
     "output_type": "error",
     "traceback": [
      "\u001b[1;31m---------------------------------------------------------------------------\u001b[0m",
      "\u001b[1;31mTypeError\u001b[0m                                 Traceback (most recent call last)",
      "\u001b[1;32m<ipython-input-78-e2f873e5fdb5>\u001b[0m in \u001b[0;36m<module>\u001b[1;34m\u001b[0m\n\u001b[1;32m----> 1\u001b[1;33m \u001b[0mmon_tuple\u001b[0m\u001b[1;33m[\u001b[0m\u001b[1;36m0\u001b[0m\u001b[1;33m]\u001b[0m \u001b[1;33m=\u001b[0m \u001b[1;36m26\u001b[0m\u001b[1;33m\u001b[0m\u001b[1;33m\u001b[0m\u001b[0m\n\u001b[0m",
      "\u001b[1;31mTypeError\u001b[0m: 'tuple' object does not support item assignment"
     ]
    }
   ],
   "source": [
    "mon_tuple[0] = 26"
   ]
  },
  {
   "cell_type": "code",
   "execution_count": 79,
   "metadata": {},
   "outputs": [
    {
     "name": "stdout",
     "output_type": "stream",
     "text": [
      "[12, True, [2, 4], 'Bonjour', 6, 8, 24, 18, 42, 98]\n",
      "[78, True, [2, 4], 'Bonjour', 6, 8, 24, 18, 42, 98]\n"
     ]
    }
   ],
   "source": [
    "print(ma_liste)\n",
    "ma_liste[0] = 78\n",
    "print(ma_liste)"
   ]
  },
  {
   "cell_type": "markdown",
   "metadata": {},
   "source": [
    "## Dictionaires"
   ]
  },
  {
   "cell_type": "code",
   "execution_count": 81,
   "metadata": {},
   "outputs": [
    {
     "name": "stdout",
     "output_type": "stream",
     "text": [
      "Alizé\n",
      "Dupont\n"
     ]
    }
   ],
   "source": [
    "mon_dico = {\"prenom\": \"Alizé\", \"nom\": \"Dupont\"}\n",
    "\n",
    "print(mon_dico[\"prenom\"])\n",
    "print(mon_dico[\"nom\"])"
   ]
  },
  {
   "cell_type": "code",
   "execution_count": 83,
   "metadata": {},
   "outputs": [
    {
     "data": {
      "text/plain": [
       "'Alizé'"
      ]
     },
     "execution_count": 83,
     "metadata": {},
     "output_type": "execute_result"
    }
   ],
   "source": [
    "key = \"prenom\"\n",
    "\n",
    "mon_dico[key]"
   ]
  },
  {
   "cell_type": "code",
   "execution_count": 88,
   "metadata": {},
   "outputs": [
    {
     "data": {
      "text/plain": [
       "True"
      ]
     },
     "execution_count": 88,
     "metadata": {},
     "output_type": "execute_result"
    }
   ],
   "source": [
    "\"prenom\" in mon_dico"
   ]
  },
  {
   "cell_type": "code",
   "execution_count": 89,
   "metadata": {},
   "outputs": [
    {
     "data": {
      "text/plain": [
       "False"
      ]
     },
     "execution_count": 89,
     "metadata": {},
     "output_type": "execute_result"
    }
   ],
   "source": [
    "\"age\" in mon_dico"
   ]
  },
  {
   "cell_type": "markdown",
   "metadata": {},
   "source": [
    "# Structures conditionnelles"
   ]
  },
  {
   "cell_type": "code",
   "execution_count": 97,
   "metadata": {},
   "outputs": [
    {
     "name": "stdout",
     "output_type": "stream",
     "text": [
      "Mineur\n"
     ]
    }
   ],
   "source": [
    "age = 14\n",
    "\n",
    "# operateur de comparaison <, >, <=, >=, ==, !=\n",
    "# operateur boolean not, and, or\n",
    "if age > 18:\n",
    "    print(\"Majeur\")\n",
    "else:\n",
    "    print(\"Mineur\")"
   ]
  },
  {
   "cell_type": "code",
   "execution_count": 99,
   "metadata": {},
   "outputs": [
    {
     "name": "stdout",
     "output_type": "stream",
     "text": [
      "27 est impair\n"
     ]
    }
   ],
   "source": [
    "i = 27\n",
    "# afficher \"{i} est pair\" si i est pair sinon \"{i} est impair\"\n",
    "# % reste division euclidienne\n",
    "if i % 2 == 0:\n",
    "    print(f\"{i} est pair\")\n",
    "else:\n",
    "    print(f\"{i} est impair\")"
   ]
  },
  {
   "cell_type": "code",
   "execution_count": 102,
   "metadata": {},
   "outputs": [
    {
     "name": "stdout",
     "output_type": "stream",
     "text": [
      "passe ton permis\n",
      "exterieur\n"
     ]
    }
   ],
   "source": [
    "age = 18\n",
    "\n",
    "# operateur de comparaison <, >, <=, >=, ==, !=\n",
    "# operateur boolean not, and, or\n",
    "if age > 18:\n",
    "    print(\"Majeur\")\n",
    "    print(\"encore\")\n",
    "elif age == 18:\n",
    "    age += 1\n",
    "    print(\"passe ton permis\")\n",
    "else:\n",
    "    print(\"Mineur\")\n",
    "    print(\"interieur\")\n",
    "    \n",
    "print(\"exterieur\")"
   ]
  },
  {
   "cell_type": "code",
   "execution_count": 104,
   "metadata": {},
   "outputs": [
    {
     "name": "stdout",
     "output_type": "stream",
     "text": [
      "Majeur\n",
      "encore\n",
      "Mineur\n",
      "interieur\n",
      "exterieur\n"
     ]
    }
   ],
   "source": [
    "age = 24\n",
    "\n",
    "# operateur de comparaison <, >, <=, >=, ==, !=\n",
    "# operateur boolean not, and, or\n",
    "if age > 18:\n",
    "    print(\"Majeur\")\n",
    "    print(\"encore\")\n",
    "    \n",
    "if age == 18:\n",
    "    age += 1\n",
    "    print(\"passe ton permis\")\n",
    "else:\n",
    "    print(\"Mineur\")\n",
    "    print(\"interieur\")\n",
    "    \n",
    "print(\"exterieur\")"
   ]
  },
  {
   "cell_type": "code",
   "execution_count": 105,
   "metadata": {},
   "outputs": [
    {
     "name": "stdout",
     "output_type": "stream",
     "text": [
      "Majeur\n",
      "encore\n",
      "passe ton permis\n",
      "exterieur\n"
     ]
    }
   ],
   "source": [
    "age = 18\n",
    "\n",
    "# operateur de comparaison <, >, <=, >=, ==, !=\n",
    "# operateur boolean not, and, or\n",
    "if age >= 18:\n",
    "    print(\"Majeur\")\n",
    "    print(\"encore\")\n",
    "    \n",
    "    if age == 18:\n",
    "        age += 1\n",
    "        print(\"passe ton permis\")\n",
    "    else:\n",
    "        print(\"Mineur\")\n",
    "        print(\"interieur\")\n",
    "\n",
    "print(\"exterieur\")"
   ]
  },
  {
   "cell_type": "code",
   "execution_count": null,
   "metadata": {},
   "outputs": [],
   "source": []
  }
 ],
 "metadata": {
  "kernelspec": {
   "display_name": "Python 3",
   "language": "python",
   "name": "python3"
  },
  "language_info": {
   "codemirror_mode": {
    "name": "ipython",
    "version": 3
   },
   "file_extension": ".py",
   "mimetype": "text/x-python",
   "name": "python",
   "nbconvert_exporter": "python",
   "pygments_lexer": "ipython3",
   "version": "3.7.3"
  }
 },
 "nbformat": 4,
 "nbformat_minor": 4
}
